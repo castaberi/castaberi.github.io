{
 "cells": [
  {
   "cell_type": "markdown",
   "metadata": {},
   "source": [
    "# 02806 Social Dataanalysis - Project Assignment B\n",
    "\n",
    "# Where is it safe to eat in New York City?\n"
   ]
  },
  {
   "cell_type": "markdown",
   "metadata": {},
   "source": [
    "## Table of contents\n",
    "1. Motivation\n",
    "2. Data preperation and basic stats\n",
    "3. Theory and machine learning models\n",
    "4. Visualisations and explanation of the website\n",
    "5. Discussion and conclusion"
   ]
  },
  {
   "cell_type": "markdown",
   "metadata": {},
   "source": [
    "## 1 - Motivation"
   ]
  },
  {
   "cell_type": "markdown",
   "metadata": {},
   "source": [
    "As we first glanced on this dataset, we thought it would be interesting to examine how a person can know whether a restaurant is likely to be *hygienic* and a *safe* place to eat. Whenever you see a restaurant you immediately know something about it such as its location and which kind of food it serves. With most people having constant access to the internet, you may also have access to user reviews for example from **Yelp.com** which containts a score and user reviews of a restaurant. With this in mind, we decided to investigate how a tourist could make informed decisions about where to eat safe food with these information available. And if we ever were to go to NYC we hopefully, by the end of this analysis, know which places to avoid and which places to welcome. So the overall goal is to predict and investigate which restaurants are safe to eat at with limited information that a tourist typically have. Lastly, we decided to look into Michelin restaurants, since this information typically also is easily available for a tourist due to the associated fame that comes with having Michelin stars."
   ]
  },
  {
   "cell_type": "markdown",
   "metadata": {},
   "source": [
    "The main dataset we need to make this analysis possible is the New York City restaurant inspection results which can be found here: https://data.cityofnewyork.us/Health/DOHMH-New-York-City-Restaurant-Inspection-Results/xx67-kt59. This contains alot of information about the particular restaurant and also a score that summarises how the hygiene is in this restaurant. There are repeated inspections for each restaurant, so we have alot of information available. This dataset is combined with a second one: X and Y coordinates. We do this is order to have some quantitative information about the placing of the restaurant. The third and last dataset is the **Yelp.com** dataset. Here we obtain the score for each restaurant among other variables. All this will be explained in details later."
   ]
  },
  {
   "cell_type": "markdown",
   "metadata": {},
   "source": [
    "The sizes of the three dataset are given below\n",
    "* The total size of the inspection dataset is: 169 MB\n",
    "* The total size of the coordinates dataset is: 10 MB\n",
    "* The total size of the Yelp.com dataset is: 4.7 MB\n",
    "\n",
    "\n",
    "A detailed explanation of the grades and scores can be found here: http://www1.nyc.gov/assets/doh/downloads/pdf/rii/how-we-score-grade.pdf"
   ]
  },
  {
   "cell_type": "markdown",
   "metadata": {},
   "source": [
    "## 2 - Basic Stats"
   ]
  },
  {
   "cell_type": "markdown",
   "metadata": {},
   "source": [
    "In this section we will provide a detailed explanation of our initial data manipulation and exploration. We shall do this by producing several graphics acompanied by descriptions of our findings."
   ]
  },
  {
   "cell_type": "markdown",
   "metadata": {
    "collapsed": true
   },
   "source": [
    "### 2.1 - Data preparation"
   ]
  },
  {
   "cell_type": "markdown",
   "metadata": {},
   "source": [
    "We describe the process of cleaning the dataset in this section."
   ]
  },
  {
   "cell_type": "code",
   "execution_count": 2,
   "metadata": {
    "collapsed": false
   },
   "outputs": [],
   "source": [
    "# Preamble\n",
    "import numpy as np\n",
    "import pandas as pd\n",
    "import geoplotlib\n",
    "import datetime\n",
    "import math\n",
    "import matplotlib.pyplot as plt\n",
    "import urllib, urllib2, json\n",
    "import statsmodels.api as sm\n",
    "from collections import defaultdict\n",
    "from geoplotlib.utils import read_csv, BoundingBox\n",
    "from scipy import stats\n",
    "from sklearn.cross_validation import train_test_split\n",
    "from sklearn.linear_model import LogisticRegression, LinearRegression\n",
    "from sklearn.neighbors import KNeighborsClassifier\n",
    "from sklearn.ensemble import RandomForestRegressor\n",
    "from sklearn.ensemble import AdaBoostRegressor\n",
    "from sklearn.tree import DecisionTreeRegressor\n",
    "from sklearn import tree\n",
    "from __future__ import division\n",
    "from IPython.display import Image\n",
    "from yelp.client import Client\n",
    "from yelp.oauth1_authenticator import Oauth1Authenticator\n",
    "from sklearn import preprocessing\n",
    "from sklearn import tree\n",
    "from IPython.display import IFrame\n",
    "from sknn.mlp import Regressor, Layer\n",
    "from __future__ import division\n",
    "\n",
    "%matplotlib inline\n",
    "\n",
    "# Pandas preamble\n",
    "# Make the graphs a bit prettier, and bigger\n",
    "pd.set_option('display.width', 5000) \n",
    "pd.set_option('display.max_columns', 60) \n",
    "pd.options.mode.chained_assignment = None  # default='warn'\n",
    "plt.style.use('ggplot')"
   ]
  },
  {
   "cell_type": "markdown",
   "metadata": {},
   "source": [
    "We import the inspection dataset and the coordinates. Detailed information about how we obtained the coordinates are given later on. We convert the dates to suitable datetime-formats. For the cleaning process we remove records with negative scores, since we cannot find any information about how and why these have been given (See e.g. the link to the report provided above). Also, we remove observations that do not have a restaurant name, score or a location (coordinates). Lastly, we sort the dataset by id."
   ]
  },
  {
   "cell_type": "code",
   "execution_count": 4,
   "metadata": {
    "collapsed": false
   },
   "outputs": [],
   "source": [
    "df = pd.read_csv('./DOHMH_New_York_City_Restaurant_Inspection_Results.csv')\n",
    "address = pd.read_csv('NY_Restuarant_Address.csv')\n",
    "df['lat'] = address['lat']\n",
    "df['lon'] = address['lng']\n",
    "\n",
    "# Convert to datetime\n",
    "df['GRADE DATE'] =  pd.to_datetime(df['GRADE DATE'], format='%m/%d/%Y')\n",
    "df['INSPECTION DATE'] =  pd.to_datetime(df['INSPECTION DATE'], format='%m/%d/%Y')\n",
    "df['RECORD DATE'] =  pd.to_datetime(df['RECORD DATE'], format='%m/%d/%Y')\n",
    "\n",
    "# remove rows with negative scores\n",
    "df = df.drop(df[df['SCORE'] < 0].index)\n",
    "# keep only data with restaurant name, score and known location\n",
    "df = df.dropna(subset=['DBA', 'SCORE', 'lat', 'lon'])\n",
    "# sort data\n",
    "df = df.sort_values(by=['CAMIS', 'INSPECTION DATE'], ascending=[True, False])"
   ]
  },
  {
   "cell_type": "markdown",
   "metadata": {},
   "source": [
    "Notice that we still haven't combined these datasets with the Yelp dataset, but we shall do this later on."
   ]
  },
  {
   "cell_type": "markdown",
   "metadata": {},
   "source": [
    "The variable names are given below. Most of them are self-explanatory. The CAMIS variable is a unique ID, DBA is the name of the restaurant, BORO is the borough of NYC, ACTION is a string containing some information about the violations and VIOLATION CODE contains a code that can be looked up in the above linked report."
   ]
  },
  {
   "cell_type": "code",
   "execution_count": 5,
   "metadata": {
    "collapsed": false
   },
   "outputs": [
    {
     "data": {
      "text/plain": [
       "['CAMIS',\n",
       " 'DBA',\n",
       " 'BORO',\n",
       " 'BUILDING',\n",
       " 'STREET',\n",
       " 'ZIPCODE',\n",
       " 'PHONE',\n",
       " 'CUISINE DESCRIPTION',\n",
       " 'INSPECTION DATE',\n",
       " 'ACTION',\n",
       " 'VIOLATION CODE',\n",
       " 'VIOLATION DESCRIPTION',\n",
       " 'CRITICAL FLAG',\n",
       " 'SCORE',\n",
       " 'GRADE',\n",
       " 'GRADE DATE',\n",
       " 'RECORD DATE',\n",
       " 'INSPECTION TYPE',\n",
       " 'lat',\n",
       " 'lon']"
      ]
     },
     "execution_count": 5,
     "metadata": {},
     "output_type": "execute_result"
    }
   ],
   "source": [
    "list(df)"
   ]
  },
  {
   "cell_type": "markdown",
   "metadata": {},
   "source": [
    "Now, since almost all restaurants have multiple inspections, we need to do some aggregation. We would like to have one observation for each restaurant, so we average each score across the multiple inspections. This reduces our dataset to 24877 observations."
   ]
  },
  {
   "cell_type": "code",
   "execution_count": 6,
   "metadata": {
    "collapsed": false
   },
   "outputs": [
    {
     "name": "stdout",
     "output_type": "stream",
     "text": [
      "Size of dataset:  24877\n"
     ]
    }
   ],
   "source": [
    "df_unique = df.drop_duplicates(subset=['CAMIS'])\n",
    "df_unique[\"AVGSCORE\"] = (df[[\"CAMIS\",\"SCORE\"]].groupby(\"CAMIS\").mean()[\"SCORE\"]).tolist()\n",
    "print \"Size of dataset: \", len(df_unique)"
   ]
  },
  {
   "cell_type": "markdown",
   "metadata": {},
   "source": [
    "A snippet of the cleaned dataset is shown below"
   ]
  },
  {
   "cell_type": "code",
   "execution_count": 7,
   "metadata": {
    "collapsed": false
   },
   "outputs": [
    {
     "data": {
      "text/html": [
       "<div>\n",
       "<table border=\"1\" class=\"dataframe\">\n",
       "  <thead>\n",
       "    <tr style=\"text-align: right;\">\n",
       "      <th></th>\n",
       "      <th>CAMIS</th>\n",
       "      <th>DBA</th>\n",
       "      <th>BORO</th>\n",
       "      <th>BUILDING</th>\n",
       "      <th>STREET</th>\n",
       "      <th>ZIPCODE</th>\n",
       "      <th>PHONE</th>\n",
       "      <th>CUISINE DESCRIPTION</th>\n",
       "      <th>INSPECTION DATE</th>\n",
       "      <th>ACTION</th>\n",
       "      <th>VIOLATION CODE</th>\n",
       "      <th>VIOLATION DESCRIPTION</th>\n",
       "      <th>CRITICAL FLAG</th>\n",
       "      <th>SCORE</th>\n",
       "      <th>GRADE</th>\n",
       "      <th>GRADE DATE</th>\n",
       "      <th>RECORD DATE</th>\n",
       "      <th>INSPECTION TYPE</th>\n",
       "      <th>lat</th>\n",
       "      <th>lon</th>\n",
       "      <th>AVGSCORE</th>\n",
       "    </tr>\n",
       "  </thead>\n",
       "  <tbody>\n",
       "    <tr>\n",
       "      <th>0</th>\n",
       "      <td>30075445</td>\n",
       "      <td>MORRIS PARK BAKE SHOP</td>\n",
       "      <td>BRONX</td>\n",
       "      <td>1007</td>\n",
       "      <td>MORRIS PARK AVE</td>\n",
       "      <td>10462</td>\n",
       "      <td>7188924968</td>\n",
       "      <td>Bakery</td>\n",
       "      <td>2016-02-18</td>\n",
       "      <td>Violations were cited in the following area(s).</td>\n",
       "      <td>04L</td>\n",
       "      <td>Evidence of mice or live mice present in facil...</td>\n",
       "      <td>Critical</td>\n",
       "      <td>10</td>\n",
       "      <td>A</td>\n",
       "      <td>2016-02-18</td>\n",
       "      <td>2016-04-11</td>\n",
       "      <td>Cycle Inspection / Initial Inspection</td>\n",
       "      <td>40.848432</td>\n",
       "      <td>-73.856035</td>\n",
       "      <td>19.333333</td>\n",
       "    </tr>\n",
       "    <tr>\n",
       "      <th>14</th>\n",
       "      <td>30112340</td>\n",
       "      <td>WENDY'S</td>\n",
       "      <td>BROOKLYN</td>\n",
       "      <td>469</td>\n",
       "      <td>FLATBUSH AVENUE</td>\n",
       "      <td>11225</td>\n",
       "      <td>7182875005</td>\n",
       "      <td>Hamburgers</td>\n",
       "      <td>2015-05-07</td>\n",
       "      <td>Violations were cited in the following area(s).</td>\n",
       "      <td>04A</td>\n",
       "      <td>Food Protection Certificate not held by superv...</td>\n",
       "      <td>Critical</td>\n",
       "      <td>12</td>\n",
       "      <td>A</td>\n",
       "      <td>2015-05-07</td>\n",
       "      <td>2016-04-11</td>\n",
       "      <td>Cycle Inspection / Initial Inspection</td>\n",
       "      <td>40.662921</td>\n",
       "      <td>-73.961727</td>\n",
       "      <td>14.105263</td>\n",
       "    </tr>\n",
       "    <tr>\n",
       "      <th>33</th>\n",
       "      <td>30191841</td>\n",
       "      <td>DJ REYNOLDS PUB AND RESTAURANT</td>\n",
       "      <td>MANHATTAN</td>\n",
       "      <td>351</td>\n",
       "      <td>WEST   57 STREET</td>\n",
       "      <td>10019</td>\n",
       "      <td>2122452912</td>\n",
       "      <td>Irish</td>\n",
       "      <td>2015-09-21</td>\n",
       "      <td>Violations were cited in the following area(s).</td>\n",
       "      <td>06C</td>\n",
       "      <td>Food not protected from potential source of co...</td>\n",
       "      <td>Critical</td>\n",
       "      <td>8</td>\n",
       "      <td>A</td>\n",
       "      <td>2015-09-21</td>\n",
       "      <td>2016-04-11</td>\n",
       "      <td>Cycle Inspection / Re-inspection</td>\n",
       "      <td>40.767821</td>\n",
       "      <td>-73.984981</td>\n",
       "      <td>9.666667</td>\n",
       "    </tr>\n",
       "    <tr>\n",
       "      <th>42</th>\n",
       "      <td>40356018</td>\n",
       "      <td>RIVIERA CATERER</td>\n",
       "      <td>BROOKLYN</td>\n",
       "      <td>2780</td>\n",
       "      <td>STILLWELL AVENUE</td>\n",
       "      <td>11224</td>\n",
       "      <td>7183723031</td>\n",
       "      <td>American</td>\n",
       "      <td>2015-06-05</td>\n",
       "      <td>Violations were cited in the following area(s).</td>\n",
       "      <td>08C</td>\n",
       "      <td>Pesticide use not in accordance with label or ...</td>\n",
       "      <td>Not Critical</td>\n",
       "      <td>4</td>\n",
       "      <td>A</td>\n",
       "      <td>2015-06-05</td>\n",
       "      <td>2016-04-11</td>\n",
       "      <td>Cycle Inspection / Initial Inspection</td>\n",
       "      <td>40.579505</td>\n",
       "      <td>-73.982420</td>\n",
       "      <td>5.666667</td>\n",
       "    </tr>\n",
       "    <tr>\n",
       "      <th>48</th>\n",
       "      <td>40356151</td>\n",
       "      <td>BRUNOS ON THE BOULEVARD</td>\n",
       "      <td>QUEENS</td>\n",
       "      <td>8825</td>\n",
       "      <td>ASTORIA BOULEVARD</td>\n",
       "      <td>11369</td>\n",
       "      <td>7183350505</td>\n",
       "      <td>American</td>\n",
       "      <td>2015-05-29</td>\n",
       "      <td>Violations were cited in the following area(s).</td>\n",
       "      <td>04L</td>\n",
       "      <td>Evidence of mice or live mice present in facil...</td>\n",
       "      <td>Critical</td>\n",
       "      <td>12</td>\n",
       "      <td>A</td>\n",
       "      <td>2015-05-29</td>\n",
       "      <td>2016-04-11</td>\n",
       "      <td>Cycle Inspection / Re-inspection</td>\n",
       "      <td>40.764312</td>\n",
       "      <td>-73.880383</td>\n",
       "      <td>21.388889</td>\n",
       "    </tr>\n",
       "  </tbody>\n",
       "</table>\n",
       "</div>"
      ],
      "text/plain": [
       "       CAMIS                             DBA       BORO BUILDING             STREET  ZIPCODE       PHONE CUISINE DESCRIPTION INSPECTION DATE                                           ACTION VIOLATION CODE                              VIOLATION DESCRIPTION CRITICAL FLAG  SCORE GRADE GRADE DATE RECORD DATE                        INSPECTION TYPE        lat        lon   AVGSCORE\n",
       "0   30075445           MORRIS PARK BAKE SHOP      BRONX     1007    MORRIS PARK AVE    10462  7188924968              Bakery      2016-02-18  Violations were cited in the following area(s).            04L  Evidence of mice or live mice present in facil...      Critical     10     A 2016-02-18  2016-04-11  Cycle Inspection / Initial Inspection  40.848432 -73.856035  19.333333\n",
       "14  30112340                         WENDY'S   BROOKLYN      469    FLATBUSH AVENUE    11225  7182875005          Hamburgers      2015-05-07  Violations were cited in the following area(s).            04A  Food Protection Certificate not held by superv...      Critical     12     A 2015-05-07  2016-04-11  Cycle Inspection / Initial Inspection  40.662921 -73.961727  14.105263\n",
       "33  30191841  DJ REYNOLDS PUB AND RESTAURANT  MANHATTAN      351   WEST   57 STREET    10019  2122452912               Irish      2015-09-21  Violations were cited in the following area(s).            06C  Food not protected from potential source of co...      Critical      8     A 2015-09-21  2016-04-11       Cycle Inspection / Re-inspection  40.767821 -73.984981   9.666667\n",
       "42  40356018                 RIVIERA CATERER   BROOKLYN     2780   STILLWELL AVENUE    11224  7183723031            American      2015-06-05  Violations were cited in the following area(s).            08C  Pesticide use not in accordance with label or ...  Not Critical      4     A 2015-06-05  2016-04-11  Cycle Inspection / Initial Inspection  40.579505 -73.982420   5.666667\n",
       "48  40356151         BRUNOS ON THE BOULEVARD     QUEENS     8825  ASTORIA BOULEVARD    11369  7183350505            American      2015-05-29  Violations were cited in the following area(s).            04L  Evidence of mice or live mice present in facil...      Critical     12     A 2015-05-29  2016-04-11       Cycle Inspection / Re-inspection  40.764312 -73.880383  21.388889"
      ]
     },
     "execution_count": 7,
     "metadata": {},
     "output_type": "execute_result"
    }
   ],
   "source": [
    "df_unique.head()"
   ]
  },
  {
   "cell_type": "markdown",
   "metadata": {},
   "source": [
    "### 2.2 - Adress to longitude and lattitude"
   ]
  },
  {
   "cell_type": "markdown",
   "metadata": {},
   "source": [
    "Since the original dataset did not contain lattitude and longitute coordinates, we decided to find them ourselves. Below we provide the code with which we have done so using the Google Maps API through the function"
   ]
  },
  {
   "cell_type": "code",
   "execution_count": 8,
   "metadata": {
    "collapsed": true
   },
   "outputs": [],
   "source": [
    "def decode_address_to_coordinates(address):\n",
    "    \"\"\"Function for fetching latitude/longitude coordinates\n",
    "    source: http://stackoverflow.com/questions/15285691/googlemaps-api-address-to-coordinates-latitude-longitude\"\"\"\n",
    "    params = {\n",
    "            'address' : address,\n",
    "            'sensor' : 'false',\n",
    "    }  \n",
    "    url = 'http://maps.google.com/maps/api/geocode/json?' + urllib.urlencode(params)\n",
    "    response = urllib2.urlopen(url)\n",
    "    result = json.load(response)\n",
    "    try:\n",
    "            return result['results'][0]['geometry']['location']\n",
    "    except:\n",
    "            return None"
   ]
  },
  {
   "cell_type": "markdown",
   "metadata": {},
   "source": [
    "and then all addresses are fetched in the for-loop. Note that the for loop takes are very long time to run."
   ]
  },
  {
   "cell_type": "code",
   "execution_count": null,
   "metadata": {
    "collapsed": false
   },
   "outputs": [],
   "source": [
    "df_address = pd.DataFrame(columns=['lat','lng'], index=df.index)\n",
    "address_prev = \"\"\n",
    "for i in df_address.index:\n",
    "    # create address\n",
    "    address = \"\" if pd.isnull(df[\"BUILDING\"][i]) else df[\"BUILDING\"][i] + \", \"\n",
    "    address += df[\"STREET\"][i] + \", NY \" + str(df[\"ZIPCODE\"][i])\n",
    "    # get coordinates and store them in address_prev dataFrame\n",
    "    if address == address_prev:\n",
    "        df_address.loc[i] = df_address.loc[i-1]\n",
    "    else:\n",
    "        df_address.loc[i] = pd.Series(decode_address_to_coordinates(address))\n",
    "        time.sleep(.5)\n",
    "    address_prev = address"
   ]
  },
  {
   "cell_type": "markdown",
   "metadata": {},
   "source": [
    "And this has been saved to a .CSV file, which have been loaded above."
   ]
  },
  {
   "cell_type": "markdown",
   "metadata": {},
   "source": [
    "### 2.3 - Yelp.com dataset"
   ]
  },
  {
   "cell_type": "markdown",
   "metadata": {
    "collapsed": true
   },
   "source": [
    "In order to obtain more information about each restaurant in our violation dataset, we make use of the Yelp API. Yelp is an online rating platform for consumers to access and rate different restaurants, bars etc. The Yelp API is easy accessible through Python.\n",
    "\n",
    "We start by gaining access by user specific keys. These are private, so we shall not present them here, but it might look something like this"
   ]
  },
  {
   "cell_type": "code",
   "execution_count": 9,
   "metadata": {
    "collapsed": true
   },
   "outputs": [],
   "source": [
    "consumer_key = \"safe_consumer_key\"\n",
    "consumer_secret = \"safe_consumer_secret\"\n",
    "token = \"safe_token\"\n",
    "token_secret = \"safe_token_secret\""
   ]
  },
  {
   "cell_type": "markdown",
   "metadata": {
    "collapsed": true
   },
   "source": [
    "Then open the API access:"
   ]
  },
  {
   "cell_type": "code",
   "execution_count": 10,
   "metadata": {
    "collapsed": true
   },
   "outputs": [],
   "source": [
    "auth = Oauth1Authenticator(\n",
    "    consumer_key=consumer_key,\n",
    "    consumer_secret=consumer_secret,\n",
    "    token=token,\n",
    "    token_secret=token_secret\n",
    ")\n",
    "\n",
    "client = Client(auth)"
   ]
  },
  {
   "cell_type": "markdown",
   "metadata": {},
   "source": [
    "It is not completely obvious how we should match the two datasets, since there are no unique identifier. The most obvious is probably telephone number, since this should be unique. There might be some restaurants that have changed phone number since the inspection dataset was been published, or some may have reported one number to Yelp.com and a different to the inspectors. We cannot handle such inconveniences, so we match only by phone number. We do this below. The code explained in a few lines: We loop over all the restaurants and then use the built-in API function phone_search. If a match is found we grab the first and best result (the API might return multiple matches, but it is always the first in the list that is the *best*), then extract the variables of interest and save it."
   ]
  },
  {
   "cell_type": "code",
   "execution_count": null,
   "metadata": {
    "collapsed": true
   },
   "outputs": [],
   "source": [
    "phone_list = df_unique[['CAMIS','PHONE']]\n",
    "results = [[]]*len(df_unique)\n",
    "result = []\n",
    "NAs = []\n",
    "i = -1\n",
    "for phone, camis in phone_list[[\"PHONE\",\"CAMIS\"]].itertuples(index=False):\n",
    "    i += 1\n",
    "    response = client.phone_search(phone, **params)\n",
    "    if len(response.businesses) > 0 :\n",
    "        business = response.businesses[0] # Grab the first and best search result\n",
    "        result = [camis, phone, business.name, business.id, business.rating,\n",
    "                  business.is_closed, business.review_count, business.snippet_text,\n",
    "                  business.menu_provider, business.menu_date_updated, business.is_claimed]\n",
    "        \n",
    "        # Check if neighborhood information is available\n",
    "        # If it is, grab the first element of the list\n",
    "        # Otherwise write NA\n",
    "        if business.location.neighborhoods is not None:\n",
    "            result.extend([business.location.neighborhoods[0]])\n",
    "        else:\n",
    "            result.extend([\"NaN\"])\n",
    "    \n",
    "        results[i] = result\n",
    "        result = []\n",
    "    else:\n",
    "        NAs.append([camis,phone])\n",
    "    time.sleep(0.5)"
   ]
  },
  {
   "cell_type": "markdown",
   "metadata": {},
   "source": [
    "Running the above for loop takes a great deal of time. We have saved the data obtained from the for-loop in a .csv file which we here load and inspect the attributes"
   ]
  },
  {
   "cell_type": "code",
   "execution_count": 11,
   "metadata": {
    "collapsed": false
   },
   "outputs": [
    {
     "name": "stdout",
     "output_type": "stream",
     "text": [
      "Variables: \n",
      "['CAMIS', 'PHONE', 'NAME_YELP', 'ID_YELP', 'RATING_YELP', 'IS_CLOSED_YELP', 'REVIEW_COUNT_YELP', 'SNIPPET_TEXT_YELP', 'MENU_PROVIDER_YELP', 'MENU_DATE_UPDATED_YELP', 'IS_CLAIMED_YELP', 'NEIGHBORHOODS_1_YELP']\n",
      "Size of dataset:  24877\n"
     ]
    }
   ],
   "source": [
    "df_yelp = pd.read_csv(\"yelp.csv\")\n",
    "print \"Variables: \"\n",
    "print list(df_yelp)\n",
    "print \"Size of dataset: \", len(df_yelp)"
   ]
  },
  {
   "cell_type": "markdown",
   "metadata": {},
   "source": [
    "We put the possibly interesting attributes in the restaurant data"
   ]
  },
  {
   "cell_type": "code",
   "execution_count": 12,
   "metadata": {
    "collapsed": false
   },
   "outputs": [],
   "source": [
    "df_unique['RATING_YELP'] = df_yelp['RATING_YELP']\n",
    "df_unique['REVIEW_COUNT_YELP'] = df_yelp['REVIEW_COUNT_YELP']\n",
    "df_unique['IS_CLOSED_YELP'] = df_yelp['IS_CLOSED_YELP']\n",
    "df_unique['IS_CLAIMED_YELP'] = df_yelp['IS_CLAIMED_YELP']\n",
    "df_unique['MENU_PROVIDER_YELP'] = df_yelp['MENU_PROVIDER_YELP']"
   ]
  },
  {
   "cell_type": "markdown",
   "metadata": {},
   "source": [
    "A snippet of the entire dataset is shown below"
   ]
  },
  {
   "cell_type": "code",
   "execution_count": 13,
   "metadata": {
    "collapsed": false,
    "scrolled": true
   },
   "outputs": [
    {
     "data": {
      "text/html": [
       "<div>\n",
       "<table border=\"1\" class=\"dataframe\">\n",
       "  <thead>\n",
       "    <tr style=\"text-align: right;\">\n",
       "      <th></th>\n",
       "      <th>CAMIS</th>\n",
       "      <th>DBA</th>\n",
       "      <th>BORO</th>\n",
       "      <th>BUILDING</th>\n",
       "      <th>STREET</th>\n",
       "      <th>ZIPCODE</th>\n",
       "      <th>PHONE</th>\n",
       "      <th>CUISINE DESCRIPTION</th>\n",
       "      <th>INSPECTION DATE</th>\n",
       "      <th>ACTION</th>\n",
       "      <th>VIOLATION CODE</th>\n",
       "      <th>VIOLATION DESCRIPTION</th>\n",
       "      <th>CRITICAL FLAG</th>\n",
       "      <th>SCORE</th>\n",
       "      <th>GRADE</th>\n",
       "      <th>GRADE DATE</th>\n",
       "      <th>RECORD DATE</th>\n",
       "      <th>INSPECTION TYPE</th>\n",
       "      <th>lat</th>\n",
       "      <th>lon</th>\n",
       "      <th>AVGSCORE</th>\n",
       "      <th>RATING_YELP</th>\n",
       "      <th>REVIEW_COUNT_YELP</th>\n",
       "      <th>IS_CLOSED_YELP</th>\n",
       "      <th>IS_CLAIMED_YELP</th>\n",
       "      <th>MENU_PROVIDER_YELP</th>\n",
       "    </tr>\n",
       "  </thead>\n",
       "  <tbody>\n",
       "    <tr>\n",
       "      <th>0</th>\n",
       "      <td>30075445</td>\n",
       "      <td>MORRIS PARK BAKE SHOP</td>\n",
       "      <td>BRONX</td>\n",
       "      <td>1007</td>\n",
       "      <td>MORRIS PARK AVE</td>\n",
       "      <td>10462</td>\n",
       "      <td>7188924968</td>\n",
       "      <td>Bakery</td>\n",
       "      <td>2016-02-18</td>\n",
       "      <td>Violations were cited in the following area(s).</td>\n",
       "      <td>04L</td>\n",
       "      <td>Evidence of mice or live mice present in facil...</td>\n",
       "      <td>Critical</td>\n",
       "      <td>10</td>\n",
       "      <td>A</td>\n",
       "      <td>2016-02-18</td>\n",
       "      <td>2016-04-11</td>\n",
       "      <td>Cycle Inspection / Initial Inspection</td>\n",
       "      <td>40.848432</td>\n",
       "      <td>-73.856035</td>\n",
       "      <td>19.333333</td>\n",
       "      <td>4.5</td>\n",
       "      <td>22</td>\n",
       "      <td>False</td>\n",
       "      <td>False</td>\n",
       "      <td>NaN</td>\n",
       "    </tr>\n",
       "    <tr>\n",
       "      <th>14</th>\n",
       "      <td>30112340</td>\n",
       "      <td>WENDY'S</td>\n",
       "      <td>BROOKLYN</td>\n",
       "      <td>469</td>\n",
       "      <td>FLATBUSH AVENUE</td>\n",
       "      <td>11225</td>\n",
       "      <td>7182875005</td>\n",
       "      <td>Hamburgers</td>\n",
       "      <td>2015-05-07</td>\n",
       "      <td>Violations were cited in the following area(s).</td>\n",
       "      <td>04A</td>\n",
       "      <td>Food Protection Certificate not held by superv...</td>\n",
       "      <td>Critical</td>\n",
       "      <td>12</td>\n",
       "      <td>A</td>\n",
       "      <td>2015-05-07</td>\n",
       "      <td>2016-04-11</td>\n",
       "      <td>Cycle Inspection / Initial Inspection</td>\n",
       "      <td>40.662921</td>\n",
       "      <td>-73.961727</td>\n",
       "      <td>14.105263</td>\n",
       "      <td>NaN</td>\n",
       "      <td>NaN</td>\n",
       "      <td>NaN</td>\n",
       "      <td>NaN</td>\n",
       "      <td>NaN</td>\n",
       "    </tr>\n",
       "    <tr>\n",
       "      <th>33</th>\n",
       "      <td>30191841</td>\n",
       "      <td>DJ REYNOLDS PUB AND RESTAURANT</td>\n",
       "      <td>MANHATTAN</td>\n",
       "      <td>351</td>\n",
       "      <td>WEST   57 STREET</td>\n",
       "      <td>10019</td>\n",
       "      <td>2122452912</td>\n",
       "      <td>Irish</td>\n",
       "      <td>2015-09-21</td>\n",
       "      <td>Violations were cited in the following area(s).</td>\n",
       "      <td>06C</td>\n",
       "      <td>Food not protected from potential source of co...</td>\n",
       "      <td>Critical</td>\n",
       "      <td>8</td>\n",
       "      <td>A</td>\n",
       "      <td>2015-09-21</td>\n",
       "      <td>2016-04-11</td>\n",
       "      <td>Cycle Inspection / Re-inspection</td>\n",
       "      <td>40.767821</td>\n",
       "      <td>-73.984981</td>\n",
       "      <td>9.666667</td>\n",
       "      <td>3.5</td>\n",
       "      <td>39</td>\n",
       "      <td>False</td>\n",
       "      <td>True</td>\n",
       "      <td>NaN</td>\n",
       "    </tr>\n",
       "    <tr>\n",
       "      <th>42</th>\n",
       "      <td>40356018</td>\n",
       "      <td>RIVIERA CATERER</td>\n",
       "      <td>BROOKLYN</td>\n",
       "      <td>2780</td>\n",
       "      <td>STILLWELL AVENUE</td>\n",
       "      <td>11224</td>\n",
       "      <td>7183723031</td>\n",
       "      <td>American</td>\n",
       "      <td>2015-06-05</td>\n",
       "      <td>Violations were cited in the following area(s).</td>\n",
       "      <td>08C</td>\n",
       "      <td>Pesticide use not in accordance with label or ...</td>\n",
       "      <td>Not Critical</td>\n",
       "      <td>4</td>\n",
       "      <td>A</td>\n",
       "      <td>2015-06-05</td>\n",
       "      <td>2016-04-11</td>\n",
       "      <td>Cycle Inspection / Initial Inspection</td>\n",
       "      <td>40.579505</td>\n",
       "      <td>-73.982420</td>\n",
       "      <td>5.666667</td>\n",
       "      <td>2.5</td>\n",
       "      <td>8</td>\n",
       "      <td>False</td>\n",
       "      <td>False</td>\n",
       "      <td>NaN</td>\n",
       "    </tr>\n",
       "    <tr>\n",
       "      <th>48</th>\n",
       "      <td>40356151</td>\n",
       "      <td>BRUNOS ON THE BOULEVARD</td>\n",
       "      <td>QUEENS</td>\n",
       "      <td>8825</td>\n",
       "      <td>ASTORIA BOULEVARD</td>\n",
       "      <td>11369</td>\n",
       "      <td>7183350505</td>\n",
       "      <td>American</td>\n",
       "      <td>2015-05-29</td>\n",
       "      <td>Violations were cited in the following area(s).</td>\n",
       "      <td>04L</td>\n",
       "      <td>Evidence of mice or live mice present in facil...</td>\n",
       "      <td>Critical</td>\n",
       "      <td>12</td>\n",
       "      <td>A</td>\n",
       "      <td>2015-05-29</td>\n",
       "      <td>2016-04-11</td>\n",
       "      <td>Cycle Inspection / Re-inspection</td>\n",
       "      <td>40.764312</td>\n",
       "      <td>-73.880383</td>\n",
       "      <td>21.388889</td>\n",
       "      <td>2.5</td>\n",
       "      <td>2</td>\n",
       "      <td>False</td>\n",
       "      <td>False</td>\n",
       "      <td>NaN</td>\n",
       "    </tr>\n",
       "  </tbody>\n",
       "</table>\n",
       "</div>"
      ],
      "text/plain": [
       "       CAMIS                             DBA       BORO BUILDING             STREET  ZIPCODE       PHONE CUISINE DESCRIPTION INSPECTION DATE                                           ACTION VIOLATION CODE                              VIOLATION DESCRIPTION CRITICAL FLAG  SCORE GRADE GRADE DATE RECORD DATE                        INSPECTION TYPE        lat        lon   AVGSCORE  RATING_YELP  REVIEW_COUNT_YELP IS_CLOSED_YELP IS_CLAIMED_YELP MENU_PROVIDER_YELP\n",
       "0   30075445           MORRIS PARK BAKE SHOP      BRONX     1007    MORRIS PARK AVE    10462  7188924968              Bakery      2016-02-18  Violations were cited in the following area(s).            04L  Evidence of mice or live mice present in facil...      Critical     10     A 2016-02-18  2016-04-11  Cycle Inspection / Initial Inspection  40.848432 -73.856035  19.333333          4.5                 22          False           False                NaN\n",
       "14  30112340                         WENDY'S   BROOKLYN      469    FLATBUSH AVENUE    11225  7182875005          Hamburgers      2015-05-07  Violations were cited in the following area(s).            04A  Food Protection Certificate not held by superv...      Critical     12     A 2015-05-07  2016-04-11  Cycle Inspection / Initial Inspection  40.662921 -73.961727  14.105263          NaN                NaN            NaN             NaN                NaN\n",
       "33  30191841  DJ REYNOLDS PUB AND RESTAURANT  MANHATTAN      351   WEST   57 STREET    10019  2122452912               Irish      2015-09-21  Violations were cited in the following area(s).            06C  Food not protected from potential source of co...      Critical      8     A 2015-09-21  2016-04-11       Cycle Inspection / Re-inspection  40.767821 -73.984981   9.666667          3.5                 39          False            True                NaN\n",
       "42  40356018                 RIVIERA CATERER   BROOKLYN     2780   STILLWELL AVENUE    11224  7183723031            American      2015-06-05  Violations were cited in the following area(s).            08C  Pesticide use not in accordance with label or ...  Not Critical      4     A 2015-06-05  2016-04-11  Cycle Inspection / Initial Inspection  40.579505 -73.982420   5.666667          2.5                  8          False           False                NaN\n",
       "48  40356151         BRUNOS ON THE BOULEVARD     QUEENS     8825  ASTORIA BOULEVARD    11369  7183350505            American      2015-05-29  Violations were cited in the following area(s).            04L  Evidence of mice or live mice present in facil...      Critical     12     A 2015-05-29  2016-04-11       Cycle Inspection / Re-inspection  40.764312 -73.880383  21.388889          2.5                  2          False           False                NaN"
      ]
     },
     "execution_count": 13,
     "metadata": {},
     "output_type": "execute_result"
    }
   ],
   "source": [
    "df_unique.head()"
   ]
  },
  {
   "cell_type": "markdown",
   "metadata": {},
   "source": [
    "### 2.4 - Initial data exploration\n",
    "#### 2.4.1 - Distribution of scores\n",
    "\n",
    "We start off by computing an average score for all restaurants. This average score will be used for benchmarking other restaurants. Since the same restaurant or eatery is subject to several inspections during our considered period, we thought it wise to compute the score average by first finding averages for restaurants or chains and then computing a global mean value."
   ]
  },
  {
   "cell_type": "code",
   "execution_count": 14,
   "metadata": {
    "collapsed": false
   },
   "outputs": [
    {
     "data": {
      "image/png": "[encoded data removed]",
      "text/plain": [
       "<matplotlib.figure.Figure at 0x32624080>"
      ]
     },
     "metadata": {},
     "output_type": "display_data"
    }
   ],
   "source": [
    "fig, axes = plt.subplots(nrows=1, ncols=2)\n",
    "axes = axes.ravel()\n",
    "fig.set_figheight(8)\n",
    "fig.set_figwidth(16)\n",
    "_ = df['SCORE'].hist(normed=1,bins=25,ax=axes[0]) # Save in unused variable to suppres output\n",
    "_ = df_unique['AVGSCORE'].hist(normed=1,bins=25,ax=axes[1])\n",
    "_ = axes[0].set_ylabel('Frequency')\n",
    "_ = axes[1].set_ylabel('Frequency')\n",
    "_ = axes[0].set_title('Distribution of all scores')\n",
    "_ = axes[1].set_title('Distribution of average scores')"
   ]
  },
  {
   "cell_type": "markdown",
   "metadata": {},
   "source": [
    "We notice that the distribution is right skewed in both cases, and there are some restaurants with some very high scores compared to the center of the distributions. The grand average score of the restaurants is"
   ]
  },
  {
   "cell_type": "code",
   "execution_count": 15,
   "metadata": {
    "collapsed": false
   },
   "outputs": [
    {
     "name": "stdout",
     "output_type": "stream",
     "text": [
      "Grand average score:  16.1013482377\n"
     ]
    }
   ],
   "source": [
    "Mean=np.mean(df_unique['AVGSCORE'])\n",
    "print \"Grand average score: \", Mean"
   ]
  },
  {
   "cell_type": "markdown",
   "metadata": {},
   "source": [
    "The cuisines are of particular interest, since it is immediately known to the tourist which kind of food is served at this particular restaurant. The different types of cuisines descriptions are:"
   ]
  },
  {
   "cell_type": "code",
   "execution_count": 16,
   "metadata": {
    "collapsed": false
   },
   "outputs": [
    {
     "data": {
      "text/plain": [
       "American                                                            6093\n",
       "Chinese                                                             2391\n",
       "CafÃ©/Coffee/Tea                                                    1364\n",
       "Pizza                                                               1166\n",
       "Italian                                                             1052\n",
       "Latin (Cuban, Dominican, Puerto Rican, South & Central American)     880\n",
       "Mexican                                                              814\n",
       "Japanese                                                             788\n",
       "Bakery                                                               718\n",
       "Caribbean                                                            649\n",
       "Spanish                                                              605\n",
       "Donuts                                                               497\n",
       "Pizza/Italian                                                        462\n",
       "Sandwiches                                                           441\n",
       "Chicken                                                              439\n",
       "Hamburgers                                                           435\n",
       "French                                                               360\n",
       "Asian                                                                360\n",
       "Indian                                                               324\n",
       "Jewish/Kosher                                                        324\n",
       "Juice, Smoothies, Fruit Salads                                       316\n",
       "Ice Cream, Gelato, Yogurt, Ices                                      315\n",
       "Delicatessen                                                         304\n",
       "Thai                                                                 294\n",
       "Sandwiches/Salads/Mixed Buffet                                       264\n",
       "Korean                                                               264\n",
       "Mediterranean                                                        235\n",
       "Irish                                                                191\n",
       "Other                                                                177\n",
       "Middle Eastern                                                       174\n",
       "                                                                    ... \n",
       "Creole                                                                29\n",
       "Brazilian                                                             28\n",
       "Hotdogs                                                               27\n",
       "Polish                                                                26\n",
       "Filipino                                                              25\n",
       "Hotdogs/Pretzels                                                      22\n",
       "Pancakes/Waffles                                                      21\n",
       "Chinese/Cuban                                                         21\n",
       "English                                                               16\n",
       "Ethiopian                                                             15\n",
       "Egyptian                                                              14\n",
       "Australian                                                            14\n",
       "Not Listed/Not Applicable                                             13\n",
       "Afghan                                                                12\n",
       "Moroccan                                                              11\n",
       "Indonesian                                                             9\n",
       "Fruits/Vegetables                                                      8\n",
       "Portuguese                                                             8\n",
       "Southwestern                                                           7\n",
       "Cajun                                                                  7\n",
       "Scandinavian                                                           5\n",
       "Nuts/Confectionary                                                     5\n",
       "Chilean                                                                5\n",
       "Hawaiian                                                               4\n",
       "Soups                                                                  3\n",
       "Iranian                                                                3\n",
       "Czech                                                                  3\n",
       "Creole/Cajun                                                           2\n",
       "Californian                                                            2\n",
       "Polynesian                                                             2\n",
       "Name: CUISINE DESCRIPTION, dtype: int64"
      ]
     },
     "execution_count": 16,
     "metadata": {},
     "output_type": "execute_result"
    }
   ],
   "source": [
    "df_unique['CUISINE DESCRIPTION'].value_counts()"
   ]
  },
  {
   "cell_type": "markdown",
   "metadata": {},
   "source": [
    "That's a lot! There are a total of 84 different cuisine descriptions.\n",
    "\n",
    "To ease things a bit, we make a new cuisine variable where we have grouped the different cuisine descriptions together. First we create a dict defining the groupings:"
   ]
  },
  {
   "cell_type": "code",
   "execution_count": 17,
   "metadata": {
    "collapsed": true
   },
   "outputs": [],
   "source": [
    "cuisine_tuple_dict = { \n",
    "    # American\n",
    "    ('American','Californian','Creole', 'Cajun','Creole/Cajun','Southwestern', 'Hawaiian','Polynesian', 'Barbecue', 'Steak'): 'American',\n",
    "    # Chinese\n",
    "    ('Chinese', 'Chinese/Cuban') : 'Chinese',\n",
    "    # Fast Food\n",
    "    ('Pizza', 'Hotdogs', 'Hamburgers') : 'Fast Food',\n",
    "    # Italian\n",
    "    ('Italian', 'Pizza/Italian') : 'Italian',\n",
    "    # Cafe\n",
    "    ('Caf\\xc3\\x83\\xc2\\xa9/Coffee/Tea',) : 'Cafe',\n",
    "    # Latin\n",
    "    ('Latin (Cuban, Dominican, Puerto Rican, South & Central American)', 'Mexican', 'Chilean', 'Tex-Mex', 'Brazilian', 'Polynesian', 'Peruvian') : 'Latin',\n",
    "    # Asian\n",
    "    ('Asian', 'Japanese', 'Korean', 'Russian', 'Thai', 'Iranian', 'Indian', 'Middle Eastern', 'Indonesian', 'Filipino', 'Vietnamese/Cambodian/Malaysia', 'Afghan', 'Pakistani', 'Armenian', 'Bangladeshi') : 'Asian',\n",
    "    # African\n",
    "    ('African', 'Soul Food', 'Ethiopian', 'Egyptian', 'Moroccan') : 'African',\n",
    "    # European\n",
    "    ('Eastern European', 'Continental', 'Polish', 'Czech', 'Irish', 'German', 'English', 'Scandinavian') : 'European',\n",
    "    # Bakery\n",
    "    ('Bakery',) : 'Bakery',\n",
    "    # Mediterranean\n",
    "    ('Mediterranean', 'French', 'Portuguese', 'Spanish', 'Greek', 'Turkish') : 'Mediterranean',\n",
    "    # Seafood\n",
    "    ('Seafood',) : 'Seafood',\n",
    "}\n",
    "cuisine_dict = {}\n",
    "for k, v in cuisine_tuple_dict.items():\n",
    "    for key in k:\n",
    "        cuisine_dict[key] = v\n",
    "cuisine_dict = defaultdict(lambda: \"Other\", cuisine_dict)"
   ]
  },
  {
   "cell_type": "markdown",
   "metadata": {},
   "source": [
    "Let's then create the new cuisine variable"
   ]
  },
  {
   "cell_type": "code",
   "execution_count": 18,
   "metadata": {
    "collapsed": false
   },
   "outputs": [
    {
     "data": {
      "text/plain": [
       "American         6286\n",
       "Other            4360\n",
       "Asian            2517\n",
       "Chinese          2412\n",
       "Latin            1947\n",
       "Fast Food        1628\n",
       "Italian          1514\n",
       "Mediterranean    1398\n",
       "Cafe             1364\n",
       "Bakery            718\n",
       "European          411\n",
       "Seafood           162\n",
       "African           160\n",
       "Name: CUISINE, dtype: int64"
      ]
     },
     "execution_count": 18,
     "metadata": {},
     "output_type": "execute_result"
    }
   ],
   "source": [
    "df_unique[\"CUISINE\"] = [cuisine_dict[cuisine] for cuisine in df_unique['CUISINE DESCRIPTION']]\n",
    "df_unique['CUISINE'].value_counts()"
   ]
  },
  {
   "cell_type": "markdown",
   "metadata": {},
   "source": [
    "All right, now we only have 13 cuisine types. Let's take a look at their mean scores:"
   ]
  },
  {
   "cell_type": "code",
   "execution_count": 19,
   "metadata": {
    "collapsed": false
   },
   "outputs": [
    {
     "data": {
      "text/html": [
       "<div>\n",
       "<table border=\"1\" class=\"dataframe\">\n",
       "  <thead>\n",
       "    <tr style=\"text-align: right;\">\n",
       "      <th></th>\n",
       "      <th>AVGSCORE</th>\n",
       "    </tr>\n",
       "    <tr>\n",
       "      <th>CUISINE</th>\n",
       "      <th></th>\n",
       "    </tr>\n",
       "  </thead>\n",
       "  <tbody>\n",
       "    <tr>\n",
       "      <th>Cafe</th>\n",
       "      <td>12.892451</td>\n",
       "    </tr>\n",
       "    <tr>\n",
       "      <th>Other</th>\n",
       "      <td>14.501292</td>\n",
       "    </tr>\n",
       "    <tr>\n",
       "      <th>American</th>\n",
       "      <td>15.462577</td>\n",
       "    </tr>\n",
       "    <tr>\n",
       "      <th>Fast Food</th>\n",
       "      <td>15.615499</td>\n",
       "    </tr>\n",
       "    <tr>\n",
       "      <th>Bakery</th>\n",
       "      <td>16.061079</td>\n",
       "    </tr>\n",
       "    <tr>\n",
       "      <th>Seafood</th>\n",
       "      <td>16.385659</td>\n",
       "    </tr>\n",
       "    <tr>\n",
       "      <th>European</th>\n",
       "      <td>16.438845</td>\n",
       "    </tr>\n",
       "    <tr>\n",
       "      <th>Italian</th>\n",
       "      <td>17.124801</td>\n",
       "    </tr>\n",
       "    <tr>\n",
       "      <th>Mediterranean</th>\n",
       "      <td>17.184863</td>\n",
       "    </tr>\n",
       "    <tr>\n",
       "      <th>Asian</th>\n",
       "      <td>17.719591</td>\n",
       "    </tr>\n",
       "    <tr>\n",
       "      <th>Latin</th>\n",
       "      <td>18.030198</td>\n",
       "    </tr>\n",
       "    <tr>\n",
       "      <th>Chinese</th>\n",
       "      <td>18.043976</td>\n",
       "    </tr>\n",
       "    <tr>\n",
       "      <th>African</th>\n",
       "      <td>18.758476</td>\n",
       "    </tr>\n",
       "  </tbody>\n",
       "</table>\n",
       "</div>"
      ],
      "text/plain": [
       "                AVGSCORE\n",
       "CUISINE                 \n",
       "Cafe           12.892451\n",
       "Other          14.501292\n",
       "American       15.462577\n",
       "Fast Food      15.615499\n",
       "Bakery         16.061079\n",
       "Seafood        16.385659\n",
       "European       16.438845\n",
       "Italian        17.124801\n",
       "Mediterranean  17.184863\n",
       "Asian          17.719591\n",
       "Latin          18.030198\n",
       "Chinese        18.043976\n",
       "African        18.758476"
      ]
     },
     "execution_count": 19,
     "metadata": {},
     "output_type": "execute_result"
    }
   ],
   "source": [
    "df_unique[[\"CUISINE\", \"AVGSCORE\"]].groupby(\"CUISINE\").mean().sort_values([\"AVGSCORE\"])"
   ]
  },
  {
   "cell_type": "markdown",
   "metadata": {},
   "source": [
    "Cafe cuisine has a very low score. This is most likely because there are not that much food involved here. It is mostly tea and coffee. For the same reason the Other category also gets a low score because this category is dominated by restaurants serving food such as \"Donuts\", \"Sandwiches\", \"Juice, Smoothies, Fruit Salads\" and \"Ice Cream\".\n",
    "\n",
    "Other than that there certainly appears to be a pattern with <b>foreign food scoring poorly </b>. In the bottom we have the African cuisine - a type of cuisine in which hands are used a lot during the cooking."
   ]
  },
  {
   "cell_type": "markdown",
   "metadata": {},
   "source": [
    "#### 2.4.2 - Comparing famous restaurants to the average score (AFVENT NINA)"
   ]
  },
  {
   "cell_type": "markdown",
   "metadata": {
    "collapsed": true
   },
   "source": [
    "Two separate articles seem to support a list of *very exclusive* restaurants in New York city. These articles are:\n",
    "http://www.grubstreet.com/2015/09/michelin-stars-2016-new-york-city.html (NYC restaurants with Michelin Stars *https://en.wikipedia.org/wiki/Michelin_Guide) and a list of the most expensive restaurants in NYC (http://gonyc.about.com/od/restaurants/ss/Most-Expensive-New-York-City-Restaurants.htm#step8).\n",
    "\n",
    "We decided to look at these \"famous\" restaurants and see if we could find interesting correlations."
   ]
  },
  {
   "cell_type": "markdown",
   "metadata": {},
   "source": [
    "Below we manually define three lists that contains the names of the restaurants with three, two and one star(s), respectively."
   ]
  },
  {
   "cell_type": "code",
   "execution_count": 20,
   "metadata": {
    "collapsed": false
   },
   "outputs": [],
   "source": [
    "Michelin_3s =[\"BROOKLYN FARE KITCHEN\",\"ELEVEN MADISON PARK\",\"JEAN GEORGES\", \"LE BERNARDIN\", \"BARMASA / MASA\", \"PER SE\"]\n",
    "Michelin_2s =[\"AQUAVIT\",\"ATERA\", \"BLANCA/SEVERED HEADS\", \"DANIEL\", \"MAREA RESTAURANT\", \"THE MODERN\", \"MOMOFUKU KO\"\n",
    ",\"SOTO JAPANESE RESTAURANT\"]\n",
    "Michelin_1s =[\"TAKE ROOT\", \"TELEPAN\", \"TEMPURA MATSUI\", \"TULSI RESTAURANT\", \"WALLSE RESTARUANT\",\n",
    "              \"ZZ CLAM BAR\", \"PUBLIC RESTAURANT/THE DAILY\", \"REBELLE\", \"THE RIVER CAFE\", \n",
    "               \"THE SPOTTED PIG\", \"SUSHI OF GARI\", \"SUSHI YASUDA\",\n",
    "              \"JUNI\", \"JUNOON\", \"KAJITSU\", \"LA VARA\", \"MEADOWSWEET\",\n",
    "              \"M. WELLS STEAKHOUSE\", \"NOMAD\", \"PETER LUGER STEAKHOUSE\", \"PICHOLINE\", \"PIORA\", \"POK POK NY\", \"CAGEN\", \n",
    "              \"CARBONE\",\"CASA ENRIQUE\", \"CASA MONO/BAR JAMON (NEXT DOOR)\", \"DEL POSTO RISTORANTE\", \"DELAWARE AND HUDSON\",\n",
    "              \"DOVETAIL\",\"THE FINCH\",\n",
    "              \"GABRIEL KREUTHER\",\"GRAMERCY TAVERN\", \"JEWEL BAKO\", \"AI FIORI\",\n",
    "              \"ALDEA RESTAURANT\", \"ANDANADA\", \"AUREOLE\", \"BABBO RISTORANTE E ENOTECA\", \"BATARD\", \"BETONY\", \"BLUE HILL RESTAURANT\", \"BOULEY\", \"\tTHE BRESLIN BAR & DINNING ROOM\", \n",
    "              \"BRUSHSTROKE (30 HUDSON ST)\", \"CAFE BOULUD/BAR PLEIADES\", \"CAFE CHINA\"]\n",
    "data_3mich=df_unique[df_unique['DBA'].isin(Michelin_3s)]\n",
    "data_2mich=df_unique[df_unique['DBA'].isin(Michelin_2s)]\n",
    "data_1mich=df_unique[df_unique['DBA'].isin(Michelin_1s)]"
   ]
  },
  {
   "cell_type": "markdown",
   "metadata": {},
   "source": [
    "Then we plot the all restaurants scores with one, two and three starts, respectively."
   ]
  },
  {
   "cell_type": "code",
   "execution_count": 21,
   "metadata": {
    "collapsed": false
   },
   "outputs": [
    {
     "data": {
      "image/png": "[encoded data removed]",
      "text/plain": [
       "<matplotlib.figure.Figure at 0x27baa828>"
      ]
     },
     "metadata": {},
     "output_type": "display_data"
    }
   ],
   "source": [
    "fig, axes = plt.subplots(nrows=3, ncols=1)\n",
    "fig.tight_layout()\n",
    "fig.set_figheight(20)\n",
    "fig.set_figwidth(18)\n",
    "axes = axes.ravel()\n",
    "data_1mich[['DBA','AVGSCORE']].plot(kind = \"bar\", x=\"DBA\", y=\"AVGSCORE\", ax=axes[0])\n",
    "data_2mich[['DBA','AVGSCORE']].plot(kind = \"bar\", x=\"DBA\", y=\"AVGSCORE\", ax=axes[1])\n",
    "data_3mich[['DBA','AVGSCORE']].plot(kind = \"bar\", x=\"DBA\", y=\"AVGSCORE\", ax=axes[2])\n",
    "_ = axes[0].axhline(y=Mean, xmin=0, xmax=1,  c=\"red\",linewidth=2)\n",
    "_ = axes[1].axhline(y=Mean, xmin=0, xmax=1,  c=\"red\",linewidth=2)\n",
    "_ = axes[2].axhline(y=Mean, xmin=0, xmax=1,  c=\"red\",linewidth=2)\n",
    "_ = axes[0].set_ylabel('Avg. Score')\n",
    "_ = axes[1].set_ylabel('Avg. Score')\n",
    "_ = axes[2].set_ylabel('Avg. Score')\n",
    "_ = axes[0].set_xlabel('')\n",
    "_ = axes[1].set_xlabel('')\n",
    "_ = axes[0].set_title('Avg. score of one stared Michelin restaurants')\n",
    "_ = axes[1].set_title('Avg. score of two stared Michelin restaurants')\n",
    "_ = axes[2].set_title('Avg. score of three stared Michelin restaurants')\n",
    "plt.subplots_adjust(hspace = 1)"
   ]
  },
  {
   "cell_type": "markdown",
   "metadata": {},
   "source": [
    "From this it is not clear whether it improves the score if you have a star. Let us do some calculations"
   ]
  },
  {
   "cell_type": "code",
   "execution_count": 22,
   "metadata": {
    "collapsed": false
   },
   "outputs": [
    {
     "name": "stdout",
     "output_type": "stream",
     "text": [
      "Percentage of 1 Michelin star restaurants having a score above average (thus a below average hygiene) 0.5000\n",
      "Percentage of 2 Michelin star restaurants having a score above average (thus a below average hygiene) 0.5000\n",
      "Percentage of 3 Michelin star restaurants having a score above average (thus a below average hygiene) 0.5000\n"
     ]
    }
   ],
   "source": [
    "perct_above_av=len(data_1mich[data_1mich['AVGSCORE'] > Mean])/len(data_1mich)\n",
    "print\"Percentage of 1 Michelin star restaurants having a score above average (thus a below average hygiene) %.4f\"% perct_above_av\n",
    "perct_above_av2=len(data_2mich[data_2mich['AVGSCORE'] > Mean])/len(data_2mich)\n",
    "print\"Percentage of 2 Michelin star restaurants having a score above average (thus a below average hygiene) %.4f\"% perct_above_av2\n",
    "len(data_2mich[data_2mich['AVGSCORE'] > Mean])\n",
    "perct_above_av3=len(data_3mich[data_3mich['AVGSCORE'] > Mean])/len(data_3mich)\n",
    "print\"Percentage of 3 Michelin star restaurants having a score above average (thus a below average hygiene) %.4f\"% perct_above_av3"
   ]
  },
  {
   "cell_type": "markdown",
   "metadata": {},
   "source": [
    "Very interesting. It doesn't matter whether you have 1, 2 or 3 three stars -  you really don't seem to be better or worse off."
   ]
  },
  {
   "cell_type": "code",
   "execution_count": 23,
   "metadata": {
    "collapsed": false
   },
   "outputs": [
    {
     "name": "stdout",
     "output_type": "stream",
     "text": [
      "Average of three stared restaurants:  17.4963108119\n",
      "Average of two stared restaurants:  16.3831396545\n",
      "Average of one stared restaurants:  16.0671207112\n",
      "Global overall mean:  16.1013482377\n"
     ]
    }
   ],
   "source": [
    "Av_3s=np.mean(data_3mich['AVGSCORE'])\n",
    "Av_2s=np.mean(data_2mich['AVGSCORE'])\n",
    "Av_1s=np.mean(data_1mich['AVGSCORE'])\n",
    "print \"Average of three stared restaurants: \", Av_3s\n",
    "print \"Average of two stared restaurants: \", Av_2s\n",
    "print \"Average of one stared restaurants: \", Av_1s\n",
    "print \"Global overall mean: \", Mean"
   ]
  },
  {
   "cell_type": "markdown",
   "metadata": {},
   "source": [
    "We see that the 1 star Michelin restaurants surprisingly have the best hygiene out of the three, and only slightly below the global mean."
   ]
  },
  {
   "cell_type": "markdown",
   "metadata": {},
   "source": [
    "#### 2.4.3 - Geographical information"
   ]
  },
  {
   "cell_type": "markdown",
   "metadata": {},
   "source": [
    "At our website we have produced a very informative, interactive visualisation of the geographical information. The conclusion from this is that there tend to be better score at Manhattan and Bronx than other places in NYC. Let us try and see if we can reproduce such results here"
   ]
  },
  {
   "cell_type": "code",
   "execution_count": 24,
   "metadata": {
    "collapsed": false
   },
   "outputs": [
    {
     "data": {
      "image/png": "[encoded data removed]",
      "text/plain": [
       "<matplotlib.figure.Figure at 0x32616860>"
      ]
     },
     "metadata": {},
     "output_type": "display_data"
    }
   ],
   "source": [
    "_ = df_unique[[\"BORO\",\"AVGSCORE\"]].groupby(\"BORO\").mean().sort_values([\"AVGSCORE\"]).plot(kind = \"bar\", y=\"AVGSCORE\")"
   ]
  },
  {
   "cell_type": "markdown",
   "metadata": {},
   "source": [
    "We actually find the same here - Bronx and Manhattan seem to be the places to be if you like clean food. "
   ]
  },
  {
   "cell_type": "markdown",
   "metadata": {},
   "source": [
    "#### 2.4.4 - Exploring the Yelp dataset"
   ]
  },
  {
   "cell_type": "markdown",
   "metadata": {},
   "source": [
    "We will explore the Yelp dataset in this section. Let's first investigate if there is a correlation between Yelp rating and the hygiene score. We consider only data with 5 or more reviews for a reliable grade and we log transform the review counts due to the skewed distribution."
   ]
  },
  {
   "cell_type": "code",
   "execution_count": 25,
   "metadata": {
    "collapsed": false
   },
   "outputs": [],
   "source": [
    "df_score = df_unique[[\"AVGSCORE\", \"RATING_YELP\", \"REVIEW_COUNT_YELP\"]][df_unique[\"REVIEW_COUNT_YELP\"]>4]\n",
    "df_score[\"LOG_REVIEW_COUNT_YELP\"] = [math.log(float(s)) for s in df_score[\"REVIEW_COUNT_YELP\"]]"
   ]
  },
  {
   "cell_type": "code",
   "execution_count": 26,
   "metadata": {
    "collapsed": false
   },
   "outputs": [
    {
     "data": {
      "text/html": [
       "<div>\n",
       "<table border=\"1\" class=\"dataframe\">\n",
       "  <thead>\n",
       "    <tr style=\"text-align: right;\">\n",
       "      <th></th>\n",
       "      <th>AVGSCORE</th>\n",
       "      <th>RATING_YELP</th>\n",
       "      <th>REVIEW_COUNT_YELP</th>\n",
       "      <th>LOG_REVIEW_COUNT_YELP</th>\n",
       "    </tr>\n",
       "  </thead>\n",
       "  <tbody>\n",
       "    <tr>\n",
       "      <th>AVGSCORE</th>\n",
       "      <td>1.000000</td>\n",
       "      <td>0.009277</td>\n",
       "      <td>0.011192</td>\n",
       "      <td>-0.014888</td>\n",
       "    </tr>\n",
       "    <tr>\n",
       "      <th>RATING_YELP</th>\n",
       "      <td>0.009277</td>\n",
       "      <td>1.000000</td>\n",
       "      <td>0.125349</td>\n",
       "      <td>0.206441</td>\n",
       "    </tr>\n",
       "    <tr>\n",
       "      <th>REVIEW_COUNT_YELP</th>\n",
       "      <td>0.011192</td>\n",
       "      <td>0.125349</td>\n",
       "      <td>1.000000</td>\n",
       "      <td>0.567426</td>\n",
       "    </tr>\n",
       "    <tr>\n",
       "      <th>LOG_REVIEW_COUNT_YELP</th>\n",
       "      <td>-0.014888</td>\n",
       "      <td>0.206441</td>\n",
       "      <td>0.567426</td>\n",
       "      <td>1.000000</td>\n",
       "    </tr>\n",
       "  </tbody>\n",
       "</table>\n",
       "</div>"
      ],
      "text/plain": [
       "                       AVGSCORE  RATING_YELP  REVIEW_COUNT_YELP  LOG_REVIEW_COUNT_YELP\n",
       "AVGSCORE               1.000000     0.009277           0.011192              -0.014888\n",
       "RATING_YELP            0.009277     1.000000           0.125349               0.206441\n",
       "REVIEW_COUNT_YELP      0.011192     0.125349           1.000000               0.567426\n",
       "LOG_REVIEW_COUNT_YELP -0.014888     0.206441           0.567426               1.000000"
      ]
     },
     "execution_count": 26,
     "metadata": {},
     "output_type": "execute_result"
    }
   ],
   "source": [
    "df_score.corr()"
   ]
  },
  {
   "cell_type": "markdown",
   "metadata": {},
   "source": [
    "There does not seem to be any linear relationship between yelp scores and hygiene score."
   ]
  },
  {
   "cell_type": "markdown",
   "metadata": {},
   "source": [
    "The size of the Yelp dataset with a review count of five or more has significantly reduced our dataset"
   ]
  },
  {
   "cell_type": "code",
   "execution_count": 27,
   "metadata": {
    "collapsed": false
   },
   "outputs": [
    {
     "data": {
      "text/plain": [
       "(611, 4)"
      ]
     },
     "execution_count": 27,
     "metadata": {},
     "output_type": "execute_result"
    }
   ],
   "source": [
    "df_score.shape"
   ]
  },
  {
   "cell_type": "markdown",
   "metadata": {},
   "source": [
    "So we have a very small dataset by now. Two scatter plots are shown below the first with log review counts versus the average score and the second being the Yelp rating versus the average score. None of them seem to exhibit any obvious relationship."
   ]
  },
  {
   "cell_type": "code",
   "execution_count": 28,
   "metadata": {
    "collapsed": false,
    "scrolled": true
   },
   "outputs": [
    {
     "data": {
      "image/png": "[encoded data removed]",
      "text/plain": [
       "<matplotlib.figure.Figure at 0x23527a20>"
      ]
     },
     "metadata": {},
     "output_type": "display_data"
    }
   ],
   "source": [
    "fig, axes = plt.subplots(nrows=1, ncols=2)\n",
    "axes = axes.ravel()\n",
    "fig.set_figheight(8)\n",
    "fig.set_figwidth(16)\n",
    "df_score.plot(kind='scatter', x='RATING_YELP', y='AVGSCORE', ax=axes[0])\n",
    "df_score.plot(kind='scatter', x='LOG_REVIEW_COUNT_YELP', y='AVGSCORE', ax=axes[1])\n",
    "_ = axes[1].set_title('Yelp rating versus average score')\n",
    "_ = axes[0].set_title('Log review count versus average score')"
   ]
  },
  {
   "cell_type": "markdown",
   "metadata": {},
   "source": [
    "Now let us define the dataset with all the information we need for building our models later on"
   ]
  },
  {
   "cell_type": "code",
   "execution_count": 29,
   "metadata": {
    "collapsed": false
   },
   "outputs": [],
   "source": [
    "df_pred_yelp = df_unique[[\"AVGSCORE\", \"RATING_YELP\", \"REVIEW_COUNT_YELP\",\"CUISINE\", \"lat\", \"lon\"]][df_unique[\"REVIEW_COUNT_YELP\"]>4]\n",
    "df_pred_yelp[\"LOG_REVIEW_COUNT_YELP\"] = [math.log(float(s)) for s in df_score[\"REVIEW_COUNT_YELP\"]]"
   ]
  },
  {
   "cell_type": "markdown",
   "metadata": {},
   "source": [
    "To make sure that we haven't discarded any of the cuisines by now, and that all of the cuisiness have at least some observations let us plot it below. We see that the distribution is almost the same for those restaurants with a Yelp score and those without, but of course, with alot less observations. The average scores for those with a Yelp score are plotted in the lower most plot. Again, Asian and African cuisines seem to have the worst score."
   ]
  },
  {
   "cell_type": "code",
   "execution_count": 30,
   "metadata": {
    "collapsed": false
   },
   "outputs": [
    {
     "data": {
      "image/png": "[encoded data removed]",
      "text/plain": [
       "<matplotlib.figure.Figure at 0x235336a0>"
      ]
     },
     "metadata": {},
     "output_type": "display_data"
    }
   ],
   "source": [
    "fig, axes = plt.subplots(nrows=3, ncols=1)\n",
    "axes = axes.ravel()\n",
    "fig.set_figheight(8)\n",
    "fig.set_figwidth(16)\n",
    "df_pred_yelp['CUISINE'].value_counts().plot(kind = 'bar', ax=axes[0])\n",
    "df_unique['CUISINE'].value_counts().plot(kind = 'bar', ax=axes[1])\n",
    "df_pred_yelp[[\"CUISINE\",\"AVGSCORE\"]].groupby(\"CUISINE\").mean().sort_values('AVGSCORE', ascending=False).plot(kind='bar', ax=axes[2])\n",
    "axes[0].set_title('Distribution of cuisines with Yelp score')\n",
    "axes[1].set_title('Distribution of cuisines for all restaurants')\n",
    "axes[2].set_title('Average score of cuisines in the Yelp dataset')\n",
    "_ = axes[0].get_xaxis().set_ticks([])\n",
    "_ = axes[1].get_xaxis().set_ticks([])"
   ]
  },
  {
   "cell_type": "markdown",
   "metadata": {},
   "source": [
    "## 3 - Theory"
   ]
  },
  {
   "cell_type": "markdown",
   "metadata": {
    "collapsed": true
   },
   "source": [
    "According to our statement of problem we would like to predict the average restaurant score based on the information available to the average tourist. We shall do this by various machine learning techniques which can be applied to a regression problem. Some reasonable models applicable to predict a continous output are:\n",
    "- A random forest regression\n",
    "- Multiple regression\n",
    "- Regression tree\n",
    "- Ada boost regression tree\n",
    "\n",
    "These four models will all be applied to two different kind of problems:\n",
    "\n",
    "- Predicting the average score **without** the Yelp dataset\n",
    "- Predicting the average score **with** the Yelp dataset\n",
    "\n",
    "We make this distinction since we do not have reliable Yelp data for all the restaurants in the Inspection dataset. Actually, we only have for 611 restaurants and due to the limiting size of this dataset we shall investigate both approaches. In either case we define a test and training dataset of 10% and 90%, respectively. For the categorical predictors we will apply a one-out-of-k-coding transformation prior to fitting the models as well as a suitable scaling of the numerical predictors.\n",
    "\n",
    "The predictors we find interesting in the Inspection dataset, the Yelp dataset and the coordinates dataset are:\n",
    "\n",
    "- Our own, modified cuisine type\n",
    "- Lattitude\n",
    "- Longitude\n",
    "- Review Count\n",
    "- Rating Yelp\n",
    "\n",
    "And we will of course be trying to predict the score for each restaurant averaged over the inspections for the restaurant of interest.\n",
    "\n",
    "For those models where it makes sense, we will do some statistical inference on the predictors, hopefully making it possible to determine which features are most important in determining where it is safe to eat in New York City.\n",
    "\n",
    "Notice that we disregard the Michelin data here. First because of the low number of restaurants actually having one and secondly  because there really wasn't anythint interesting going on as seen from the initial investigation."
   ]
  },
  {
   "cell_type": "markdown",
   "metadata": {},
   "source": [
    "### 3.1 - Machine learning theory"
   ]
  },
  {
   "cell_type": "markdown",
   "metadata": {},
   "source": [
    "We here very briefly outline some of the theory behind the methods that be intend to use. In the following we denote by $y_i$ the observed response (i.e. the score of the $i$th observation) and by $x_i=(x_{i1},\\dots,x_{id})$ the input observation (i.e. that latitude, longitude, and so on). "
   ]
  },
  {
   "cell_type": "markdown",
   "metadata": {},
   "source": [
    "** Multiple linear regression **\n",
    "\n",
    "In multiple linear regression the model may be written\n",
    "$$f(x_i)=\\beta_0 + \\sum_{j=1}^d \\beta_{j} x_{ij} $$\n",
    "It is thus assumed that the observed reponse is related linearly to the inputs plus some Gaussian noise\n",
    "$$f(x_i) = y_i + \\epsilon_i, \\quad \\epsilon \\overset{i.i.d.}{\\sim} \\mathcal{N}(0,\\sigma^2)$$\n",
    "The model parameters are estimated by minimising the sum of squared residuals $\\sum_i(f(x_i)-y_i)^2$ which has a well-known closed form solution. The advantage of the multiple linear regression model lies in its simplicity."
   ]
  },
  {
   "cell_type": "markdown",
   "metadata": {},
   "source": [
    "** Regression Tree **\n",
    "\n",
    "Regression trees work by partitioning the feature space into a set of disjoint regions $R_1,\\dots,R_K$ that are cubes. For each region we then use the average of the points within the region for prediction. In this way the regression tree model is defined by\n",
    "$$f(x) = \\mathrm{ave}(y\\,|\\,x \\in R_k) \\quad \\mathrm{if} \\quad x\\in R_k$$\n",
    "The regions are selected in a greedy fashion aiming to minimise sum of squares\n",
    "$$\\sum_{i}(y_i-f(x))^2$$\n",
    "The main advantages of a regression tree is its simple interpretabiliy and the few assumptions needed. Its disadvantages are the requirement of splitting the feature sapce into cubes and the fact that it is easy to overfit. "
   ]
  },
  {
   "cell_type": "markdown",
   "metadata": {},
   "source": [
    "** Random Forest **"
   ]
  },
  {
   "cell_type": "markdown",
   "metadata": {},
   "source": [
    "A random forest is as the name suggests as forrest of regression trees that combined should give a better model than the individual trees. The idea is to fit many overfitted (low bias, high variance) trees on different data sets denoted yielding the $B$ tree models $f^{1}(x),\\dots,f^B(x)$. The random forrest model then just takes an average of all of the trees to form a single output\n",
    "$$f(x) = \\frac{1}{B}\\sum_{b=1}^B f^b(x)$$\n",
    "Since taking an average of distinct variables will reduce the variance (at least if they are not perfectly correlated), we hope to end up with a low bais and low variance model.\n",
    "\n",
    "Of course we only have a single data set, but we can form new data sets using bootstrapping. To ensure that the trees fitted on each data set are somewhat distinct (i.e. decorrelated) we randomly sample a subset of features to be used in fitting each of the trees. \n",
    "\n",
    "The disadvantage of the random forrest is that we lose the easy interpretability of the simple regression tree."
   ]
  },
  {
   "cell_type": "markdown",
   "metadata": {},
   "source": [
    "** Ada Boost Regression Tree **\n",
    "\n",
    "An Adaboost regression tree is a alternative way to combine models to achieve an even better model. The strategy of Adaboost trees is to build simple models (high bias, low variance) and then attempt to reduce the bias. This is done by sequentially fitting trees, each time trying to improve on the previously fitted tree."
   ]
  },
  {
   "cell_type": "markdown",
   "metadata": {
    "collapsed": true
   },
   "source": [
    "### 3.2 - Predicting by use of Yelp dataset"
   ]
  },
  {
   "cell_type": "markdown",
   "metadata": {},
   "source": [
    "**Initial data manipulation**"
   ]
  },
  {
   "cell_type": "markdown",
   "metadata": {},
   "source": [
    "A snippet of the dataset to be used is shown below"
   ]
  },
  {
   "cell_type": "code",
   "execution_count": 31,
   "metadata": {
    "collapsed": false
   },
   "outputs": [
    {
     "data": {
      "text/html": [
       "<div>\n",
       "<table border=\"1\" class=\"dataframe\">\n",
       "  <thead>\n",
       "    <tr style=\"text-align: right;\">\n",
       "      <th></th>\n",
       "      <th>AVGSCORE</th>\n",
       "      <th>RATING_YELP</th>\n",
       "      <th>REVIEW_COUNT_YELP</th>\n",
       "      <th>CUISINE</th>\n",
       "      <th>lat</th>\n",
       "      <th>lon</th>\n",
       "      <th>LOG_REVIEW_COUNT_YELP</th>\n",
       "    </tr>\n",
       "  </thead>\n",
       "  <tbody>\n",
       "    <tr>\n",
       "      <th>0</th>\n",
       "      <td>19.333333</td>\n",
       "      <td>4.5</td>\n",
       "      <td>22</td>\n",
       "      <td>Bakery</td>\n",
       "      <td>40.848432</td>\n",
       "      <td>-73.856035</td>\n",
       "      <td>3.091042</td>\n",
       "    </tr>\n",
       "    <tr>\n",
       "      <th>33</th>\n",
       "      <td>9.666667</td>\n",
       "      <td>3.5</td>\n",
       "      <td>39</td>\n",
       "      <td>European</td>\n",
       "      <td>40.767821</td>\n",
       "      <td>-73.984981</td>\n",
       "      <td>3.663562</td>\n",
       "    </tr>\n",
       "    <tr>\n",
       "      <th>42</th>\n",
       "      <td>5.666667</td>\n",
       "      <td>2.5</td>\n",
       "      <td>8</td>\n",
       "      <td>American</td>\n",
       "      <td>40.579505</td>\n",
       "      <td>-73.982420</td>\n",
       "      <td>2.079442</td>\n",
       "    </tr>\n",
       "    <tr>\n",
       "      <th>74</th>\n",
       "      <td>17.826087</td>\n",
       "      <td>3.5</td>\n",
       "      <td>122</td>\n",
       "      <td>Other</td>\n",
       "      <td>40.619893</td>\n",
       "      <td>-73.906840</td>\n",
       "      <td>4.804021</td>\n",
       "    </tr>\n",
       "    <tr>\n",
       "      <th>110</th>\n",
       "      <td>8.111111</td>\n",
       "      <td>3.5</td>\n",
       "      <td>387</td>\n",
       "      <td>American</td>\n",
       "      <td>40.850288</td>\n",
       "      <td>-73.878611</td>\n",
       "      <td>5.958425</td>\n",
       "    </tr>\n",
       "  </tbody>\n",
       "</table>\n",
       "</div>"
      ],
      "text/plain": [
       "      AVGSCORE  RATING_YELP  REVIEW_COUNT_YELP   CUISINE        lat        lon  LOG_REVIEW_COUNT_YELP\n",
       "0    19.333333          4.5                 22    Bakery  40.848432 -73.856035               3.091042\n",
       "33    9.666667          3.5                 39  European  40.767821 -73.984981               3.663562\n",
       "42    5.666667          2.5                  8  American  40.579505 -73.982420               2.079442\n",
       "74   17.826087          3.5                122     Other  40.619893 -73.906840               4.804021\n",
       "110   8.111111          3.5                387  American  40.850288 -73.878611               5.958425"
      ]
     },
     "execution_count": 31,
     "metadata": {},
     "output_type": "execute_result"
    }
   ],
   "source": [
    "df_pred_yelp.head()"
   ]
  },
  {
   "cell_type": "code",
   "execution_count": 32,
   "metadata": {
    "collapsed": false
   },
   "outputs": [
    {
     "name": "stdout",
     "output_type": "stream",
     "text": [
      "Size of dataset:  (611, 7)\n"
     ]
    }
   ],
   "source": [
    "print \"Size of dataset: \", df_pred_yelp.shape"
   ]
  },
  {
   "cell_type": "markdown",
   "metadata": {},
   "source": [
    "In order to use the models previously mentioned we apply the one-out-of-k-coding to the cuisine description of the dataset"
   ]
  },
  {
   "cell_type": "code",
   "execution_count": 33,
   "metadata": {
    "collapsed": false
   },
   "outputs": [],
   "source": [
    "df_pred_yelp = pd.get_dummies(df_pred_yelp, columns =['CUISINE'])"
   ]
  },
  {
   "cell_type": "markdown",
   "metadata": {},
   "source": [
    "The last thing we need in order to be able to apply the models is to define the test and traning dataset and also scale the numerical variables. We drop the review count, since we now use the log-transformed count."
   ]
  },
  {
   "cell_type": "code",
   "execution_count": 34,
   "metadata": {
    "collapsed": false
   },
   "outputs": [],
   "source": [
    "y = df_pred_yelp['AVGSCORE']\n",
    "X = df_pred_yelp.drop(['AVGSCORE','REVIEW_COUNT_YELP'], axis=1)"
   ]
  },
  {
   "cell_type": "markdown",
   "metadata": {},
   "source": [
    "Below we scale the numeric predictors as well as the response variable such that they have zero mean and a standard deviation of one."
   ]
  },
  {
   "cell_type": "code",
   "execution_count": 35,
   "metadata": {
    "collapsed": false
   },
   "outputs": [],
   "source": [
    "X[['RATING_YELP','lat','lon','LOG_REVIEW_COUNT_YELP']] = preprocessing.scale(X[['RATING_YELP','lat','lon','LOG_REVIEW_COUNT_YELP']])"
   ]
  },
  {
   "cell_type": "markdown",
   "metadata": {},
   "source": [
    "And we may now define the test and traning sets. We make a simple split into a training dataset consisting of 90% of the observations and a testset consisting of the remaining 10%."
   ]
  },
  {
   "cell_type": "code",
   "execution_count": 36,
   "metadata": {
    "collapsed": false
   },
   "outputs": [
    {
     "name": "stdout",
     "output_type": "stream",
     "text": [
      "Size of training X:  (549, 17)\n",
      "Size of test X:  (62, 17)\n",
      "Size of training Y:  (549L,)\n",
      "Size of test Y:  (62L,)\n"
     ]
    }
   ],
   "source": [
    "X_train, X_test, y_train, y_test = train_test_split(X, y, test_size=0.1, random_state=123)\n",
    "print \"Size of training X: \", X_train.shape\n",
    "print \"Size of test X: \", X_test.shape\n",
    "print \"Size of training Y: \", y_train.shape\n",
    "print \"Size of test Y: \", y_test.shape"
   ]
  },
  {
   "cell_type": "markdown",
   "metadata": {},
   "source": [
    "We also define a function to calculate the $R^2$ for the different models"
   ]
  },
  {
   "cell_type": "code",
   "execution_count": 37,
   "metadata": {
    "collapsed": true
   },
   "outputs": [],
   "source": [
    "def r_squared(y_obs, y_fit):\n",
    "    sst = sum((y_obs - np.mean(y_obs))**2)\n",
    "    ssr = sum((y_obs - y_fit)**2)\n",
    "    return 1 - ssr / sst"
   ]
  },
  {
   "cell_type": "markdown",
   "metadata": {},
   "source": [
    "And we wrap this is in a function that retrieves the mean squared error as well as the $R^2$ for a model"
   ]
  },
  {
   "cell_type": "code",
   "execution_count": 38,
   "metadata": {
    "collapsed": true
   },
   "outputs": [],
   "source": [
    "def get_score(fit, X_test, y_test):\n",
    "    r2 = r_squared(y_test, fit.predict(X_test))\n",
    "    mse = np.mean((y_test - fit.predict(X_test))**2)\n",
    "    print \"R2: \", r2\n",
    "    print \"MSE: \", mse"
   ]
  },
  {
   "cell_type": "markdown",
   "metadata": {},
   "source": [
    "For the three regression forrest models previous mentioned it is possible to extract the feature importance, ie. how much this particular feature has had a say in the prediction. We define the below function for easy extraction later on. The random forrest method fits **n_estimators** numbers of forrests and we may therefore calculate the standard error of the feature importance. We do this if **plot = True** and plot them with red whiskers in a bar plot."
   ]
  },
  {
   "cell_type": "code",
   "execution_count": 39,
   "metadata": {
    "collapsed": true
   },
   "outputs": [],
   "source": [
    "def get_importance_forest(fit, plot = False):\n",
    "    importances = fit.feature_importances_\n",
    "\n",
    "    indices = np.argsort(importances)[::-1]\n",
    "\n",
    "    col_names = list(X_train.columns.values)\n",
    "\n",
    "    print(\"Feature ranking:\")\n",
    "\n",
    "    for f in range(X.shape[1]):\n",
    "        print(\"%d. feature %s (No. %d) (%f)\" % (f + 1, col_names[indices[f]], indices[f], importances[indices[f]]))\n",
    "    \n",
    "    # Only applicable for the random forrest method\n",
    "    if plot:\n",
    "        std = np.std([tree.feature_importances_ for tree in fit.estimators_], axis=0)\n",
    "        plt.figure()\n",
    "        plt.title(\"Feature importances\")\n",
    "        plt.bar(range(X.shape[1]), importances[indices],\n",
    "               color=\"b\", yerr=std[indices], align=\"center\")\n",
    "        plt.xticks(range(X.shape[1]), indices)\n",
    "        plt.xlim([-1, X.shape[1]])\n",
    "        plt.show()"
   ]
  },
  {
   "cell_type": "markdown",
   "metadata": {},
   "source": [
    "**Random forest**"
   ]
  },
  {
   "cell_type": "markdown",
   "metadata": {},
   "source": [
    "We fit a random forest regressor that fits several trees (here controlled by the parameter n_estimator) and then averages across these trees in order to avoid over-fitting but also to improve prediction power."
   ]
  },
  {
   "cell_type": "code",
   "execution_count": 40,
   "metadata": {
    "collapsed": false
   },
   "outputs": [],
   "source": [
    "forest_1 = RandomForestRegressor(n_estimators=1000, criterion = \"mse\", max_features = \"auto\",\n",
    "                            oob_score = True, n_jobs = -1, max_depth = 2)\n",
    "_ = forest_1.fit(X_train, y_train) # Save in unused variable to suppres output\n",
    "\n",
    "forest_2 = RandomForestRegressor(n_estimators=1000, criterion = \"mse\", max_features = \"auto\",\n",
    "                            oob_score = True, n_jobs = -1, max_depth = 5)\n",
    "_ = forest_2.fit(X_train, y_train) # Save in unused variable to suppres output"
   ]
  },
  {
   "cell_type": "markdown",
   "metadata": {},
   "source": [
    "Having fitted the model allows us to calculate the $R^2$ as well as the mean squared error."
   ]
  },
  {
   "cell_type": "code",
   "execution_count": 41,
   "metadata": {
    "collapsed": false
   },
   "outputs": [
    {
     "name": "stdout",
     "output_type": "stream",
     "text": [
      "Score for simple random forrest:\n",
      "R2:  0.104404015134\n",
      "MSE:  43.2290441609\n",
      "Score for complex random forrest:\n",
      "R2:  0.079748261404\n",
      "MSE:  44.4191395665\n"
     ]
    }
   ],
   "source": [
    "print \"Score for simple random forrest:\"\n",
    "get_score(forest_1, X_test, y_test)\n",
    "print \"Score for complex random forrest:\"\n",
    "get_score(forest_2, X_test, y_test)"
   ]
  },
  {
   "cell_type": "markdown",
   "metadata": {},
   "source": [
    "Here we notice that the simpler model outperforms the more complex model, so we shall proceed with the simpler one."
   ]
  },
  {
   "cell_type": "markdown",
   "metadata": {},
   "source": [
    "For the random forrest regressor we are also able to quantify which of the features had most influence in predicting the score. This can be extracted from the forest object and since we have estimated a 1000 forrests we may calculate the standard error for each of the feature importance scores. We print this together with the 'importance' score. This is also plotted in the figure below where the red whiskers indicate the standard error."
   ]
  },
  {
   "cell_type": "code",
   "execution_count": 42,
   "metadata": {
    "collapsed": false
   },
   "outputs": [
    {
     "name": "stdout",
     "output_type": "stream",
     "text": [
      "Feature ranking:\n",
      "1. feature CUISINE_Asian (No. 6) (0.339191)\n",
      "2. feature lon (No. 2) (0.177243)\n",
      "3. feature CUISINE_Fast Food (No. 11) (0.165958)\n",
      "4. feature lat (No. 1) (0.145731)\n",
      "5. feature LOG_REVIEW_COUNT_YELP (No. 3) (0.101991)\n",
      "6. feature CUISINE_Seafood (No. 16) (0.030672)\n",
      "7. feature RATING_YELP (No. 0) (0.024750)\n",
      "8. feature CUISINE_Latin (No. 13) (0.005969)\n",
      "9. feature CUISINE_American (No. 5) (0.004454)\n",
      "10. feature CUISINE_Cafe (No. 8) (0.001884)\n",
      "11. feature CUISINE_Mediterranean (No. 14) (0.001345)\n",
      "12. feature CUISINE_Italian (No. 12) (0.000476)\n",
      "13. feature CUISINE_European (No. 10) (0.000176)\n",
      "14. feature CUISINE_Bakery (No. 7) (0.000160)\n",
      "15. feature CUISINE_Chinese (No. 9) (0.000000)\n",
      "16. feature CUISINE_Other (No. 15) (0.000000)\n",
      "17. feature CUISINE_African (No. 4) (0.000000)\n"
     ]
    },
    {
     "data": {
      "image/png": "[encoded data removed]",
      "text/plain": [
       "<matplotlib.figure.Figure at 0x3bb6198>"
      ]
     },
     "metadata": {},
     "output_type": "display_data"
    }
   ],
   "source": [
    "get_importance_forest(forest_1, plot=True)"
   ]
  },
  {
   "cell_type": "markdown",
   "metadata": {},
   "source": [
    "Here we find that the most important cuisine types are Asian and Fast Food, indicating that if you know that the restaurant serves Asian food you can be pretty sure that it has a bad score and vice versa for fast food. The location of the restaurants also play an important role in determining where to eat safe and you should stay at Manhattan or Bronx if you want to be sure to eat safe as we see from the choropleth map at our website. It should, however, be noted that the standard errors are very high. This is probably due to the small number of observations in our dataset."
   ]
  },
  {
   "cell_type": "markdown",
   "metadata": {},
   "source": [
    "**Multiple regression**"
   ]
  },
  {
   "cell_type": "markdown",
   "metadata": {},
   "source": [
    "An easy interpretable model is the multiple regression model. Below we fit this model in scikit-learn."
   ]
  },
  {
   "cell_type": "code",
   "execution_count": 43,
   "metadata": {
    "collapsed": false
   },
   "outputs": [],
   "source": [
    "lr = LinearRegression()\n",
    "_ = lr.fit(X_train, y_train)"
   ]
  },
  {
   "cell_type": "markdown",
   "metadata": {},
   "source": [
    "And we are then able to calculate the $R^2$ and the MSE as previously"
   ]
  },
  {
   "cell_type": "code",
   "execution_count": 44,
   "metadata": {
    "collapsed": false
   },
   "outputs": [
    {
     "name": "stdout",
     "output_type": "stream",
     "text": [
      "R2:  0.0944885896343\n",
      "MSE:  43.7076465375\n"
     ]
    }
   ],
   "source": [
    "get_score(lr, X_test, y_test)"
   ]
  },
  {
   "cell_type": "markdown",
   "metadata": {},
   "source": [
    "We notice that we in this case get a postive $R^2$ value, so the linear regression model may explain more than just a constant prediciton, but it has a worse score than the random forrest regressor."
   ]
  },
  {
   "cell_type": "markdown",
   "metadata": {},
   "source": [
    "**Decision Tree Regression**"
   ]
  },
  {
   "cell_type": "markdown",
   "metadata": {},
   "source": [
    "Below we fit two decision trees: one simple and one complex with a maximum depth of 2 and 5, respectively."
   ]
  },
  {
   "cell_type": "code",
   "execution_count": 45,
   "metadata": {
    "collapsed": false
   },
   "outputs": [
    {
     "name": "stdout",
     "output_type": "stream",
     "text": [
      "Scores for simple fit: \n",
      "R2:  0.104936705479\n",
      "MSE:  43.2033320152\n",
      "\n",
      "\n",
      "Scores for complex fit: \n",
      "R2:  -0.262079388029\n",
      "MSE:  60.9186357706\n"
     ]
    }
   ],
   "source": [
    "# Fit regression models\n",
    "regr_1 = DecisionTreeRegressor(max_depth=2)\n",
    "regr_2 = DecisionTreeRegressor(max_depth=5)\n",
    "regr_1.fit(X_train, y_train)\n",
    "regr_2.fit(X_train, y_train)\n",
    "\n",
    "# Predict\n",
    "y_1 = regr_1.predict(X_test)\n",
    "y_2 = regr_2.predict(X_test)\n",
    "\n",
    "# Scores\n",
    "print \"Scores for simple fit: \"\n",
    "get_score(regr_1, X_test, y_test)\n",
    "print \"\\n\"\n",
    "print \"Scores for complex fit: \"\n",
    "get_score(regr_2, X_test, y_test)"
   ]
  },
  {
   "cell_type": "markdown",
   "metadata": {},
   "source": [
    "It is quite easily seen that the complex model tends to overfit, while the simple model performs almost identical to the random forrest."
   ]
  },
  {
   "cell_type": "markdown",
   "metadata": {},
   "source": [
    "The feature importance can again be extracted from this tree as below. We notice that the asian and fast food cuisine again is important in predicting the score, while the position of the restaurant has dropped some ranks compared to the random forrest."
   ]
  },
  {
   "cell_type": "code",
   "execution_count": 46,
   "metadata": {
    "collapsed": false
   },
   "outputs": [
    {
     "name": "stdout",
     "output_type": "stream",
     "text": [
      "Feature ranking:\n",
      "1. feature CUISINE_Asian (No. 6) (0.488091)\n",
      "2. feature CUISINE_Fast Food (No. 11) (0.261702)\n",
      "3. feature lon (No. 2) (0.250207)\n",
      "4. feature CUISINE_Seafood (No. 16) (0.000000)\n",
      "5. feature CUISINE_Bakery (No. 7) (0.000000)\n",
      "6. feature lat (No. 1) (0.000000)\n",
      "7. feature LOG_REVIEW_COUNT_YELP (No. 3) (0.000000)\n",
      "8. feature CUISINE_African (No. 4) (0.000000)\n",
      "9. feature CUISINE_American (No. 5) (0.000000)\n",
      "10. feature CUISINE_Cafe (No. 8) (0.000000)\n",
      "11. feature CUISINE_Other (No. 15) (0.000000)\n",
      "12. feature CUISINE_Chinese (No. 9) (0.000000)\n",
      "13. feature CUISINE_European (No. 10) (0.000000)\n",
      "14. feature CUISINE_Italian (No. 12) (0.000000)\n",
      "15. feature CUISINE_Latin (No. 13) (0.000000)\n",
      "16. feature CUISINE_Mediterranean (No. 14) (0.000000)\n",
      "17. feature RATING_YELP (No. 0) (0.000000)\n"
     ]
    }
   ],
   "source": [
    "get_importance_forest(regr_1)"
   ]
  },
  {
   "cell_type": "markdown",
   "metadata": {},
   "source": [
    "We are able to plot the decision rules for these trees. First we export the struture in a .dot format"
   ]
  },
  {
   "cell_type": "code",
   "execution_count": null,
   "metadata": {
    "collapsed": false
   },
   "outputs": [],
   "source": [
    "tree.export_graphviz(regr_1, out_file='tree.dot')\n",
    "tree.export_graphviz(regr_2, out_file='tree2.dot')"
   ]
  },
  {
   "cell_type": "markdown",
   "metadata": {},
   "source": [
    "Then create PDF version using Graphviz dot:\n",
    "\n",
    "*dot -Tpdf iris.dot -o iris.pdf*\n",
    "\n",
    "(Remember to install graphviz and put it in your Path or cd into installation folder of Graphviz)"
   ]
  },
  {
   "cell_type": "markdown",
   "metadata": {},
   "source": [
    "And we may now display it below"
   ]
  },
  {
   "cell_type": "code",
   "execution_count": 3,
   "metadata": {
    "collapsed": false
   },
   "outputs": [
    {
     "data": {
      "text/html": [
       "\n",
       "        <iframe\n",
       "            width=\"800\"\n",
       "            height=\"500\"\n",
       "            src=\"./tree.pdf\"\n",
       "            frameborder=\"0\"\n",
       "            allowfullscreen\n",
       "        ></iframe>\n",
       "        "
      ],
      "text/plain": [
       "<IPython.lib.display.IFrame at 0x3d42780>"
      ]
     },
     "execution_count": 3,
     "metadata": {},
     "output_type": "execute_result"
    }
   ],
   "source": [
    "IFrame(\"./tree.pdf\", width=800, height=500)"
   ]
  },
  {
   "cell_type": "markdown",
   "metadata": {},
   "source": [
    "This is of course in alignment with the above conclusion. Below we show the same tree structure for the complex model for the sake of interest."
   ]
  },
  {
   "cell_type": "code",
   "execution_count": 4,
   "metadata": {
    "collapsed": false
   },
   "outputs": [
    {
     "data": {
      "text/html": [
       "\n",
       "        <iframe\n",
       "            width=\"800\"\n",
       "            height=\"500\"\n",
       "            src=\"./tree2.pdf\"\n",
       "            frameborder=\"0\"\n",
       "            allowfullscreen\n",
       "        ></iframe>\n",
       "        "
      ],
      "text/plain": [
       "<IPython.lib.display.IFrame at 0x3d42550>"
      ]
     },
     "execution_count": 4,
     "metadata": {},
     "output_type": "execute_result"
    }
   ],
   "source": [
    "IFrame(\"./tree2.pdf\", width=800, height=500)"
   ]
  },
  {
   "cell_type": "markdown",
   "metadata": {},
   "source": [
    "**Ada boost Tree Regression**"
   ]
  },
  {
   "cell_type": "markdown",
   "metadata": {},
   "source": [
    "We fit an AdaBoost Regressor"
   ]
  },
  {
   "cell_type": "code",
   "execution_count": 47,
   "metadata": {
    "collapsed": false
   },
   "outputs": [],
   "source": [
    "regr_ada = AdaBoostRegressor(DecisionTreeRegressor(max_depth=2),\n",
    "                          n_estimators=300, random_state=123)\n",
    "\n",
    "_ = regr_ada.fit(X_train, y_train)"
   ]
  },
  {
   "cell_type": "markdown",
   "metadata": {},
   "source": [
    "And compute the scores"
   ]
  },
  {
   "cell_type": "code",
   "execution_count": 48,
   "metadata": {
    "collapsed": false
   },
   "outputs": [
    {
     "name": "stdout",
     "output_type": "stream",
     "text": [
      "R2:  -0.0236136536845\n",
      "MSE:  49.4082606293\n"
     ]
    }
   ],
   "source": [
    "get_score(regr_ada, X_test, y_test)"
   ]
  },
  {
   "cell_type": "markdown",
   "metadata": {},
   "source": [
    "This model performs very poorly compared to the other trees, probably owing to overfitting. The important features for this model are"
   ]
  },
  {
   "cell_type": "code",
   "execution_count": 49,
   "metadata": {
    "collapsed": false
   },
   "outputs": [
    {
     "name": "stdout",
     "output_type": "stream",
     "text": [
      "Feature ranking:\n",
      "1. feature LOG_REVIEW_COUNT_YELP (No. 3) (0.273390)\n",
      "2. feature lon (No. 2) (0.241288)\n",
      "3. feature lat (No. 1) (0.184869)\n",
      "4. feature CUISINE_Asian (No. 6) (0.172479)\n",
      "5. feature RATING_YELP (No. 0) (0.061263)\n",
      "6. feature CUISINE_Fast Food (No. 11) (0.044013)\n",
      "7. feature CUISINE_Seafood (No. 16) (0.022698)\n",
      "8. feature CUISINE_Chinese (No. 9) (0.000000)\n",
      "9. feature CUISINE_Other (No. 15) (0.000000)\n",
      "10. feature CUISINE_Bakery (No. 7) (0.000000)\n",
      "11. feature CUISINE_European (No. 10) (0.000000)\n",
      "12. feature CUISINE_American (No. 5) (0.000000)\n",
      "13. feature CUISINE_African (No. 4) (0.000000)\n",
      "14. feature CUISINE_Italian (No. 12) (0.000000)\n",
      "15. feature CUISINE_Latin (No. 13) (0.000000)\n",
      "16. feature CUISINE_Mediterranean (No. 14) (0.000000)\n",
      "17. feature CUISINE_Cafe (No. 8) (0.000000)\n"
     ]
    }
   ],
   "source": [
    "get_importance_forest(regr_ada)"
   ]
  },
  {
   "cell_type": "markdown",
   "metadata": {},
   "source": [
    "Where we find that the location still is important, but now the review count also has some say."
   ]
  },
  {
   "cell_type": "markdown",
   "metadata": {},
   "source": [
    "### 3.1 - Conclusion on Yelp dataset"
   ]
  },
  {
   "cell_type": "markdown",
   "metadata": {},
   "source": [
    "It is fairly easy to come to the conclusion that none of the above models are very good at predicting the average restaurant scores based on all our datasets available. The best model was the simple regression tree with a maximum depth of two. This model achieved an $R^2$ of 0.10 and MSE of 43, which is slightly above just a constant guess. This may be due to the very small sample for the Yelp dataset. The interesting part of this analysis is, however, that we have gained some insight in which features may be able to help a consumer that wants to find a safe place to eat. We will try to avoid concluding on the features that are not in the Yelp dataset, since these may change in the subsequent analysis. However, for the models that actually did make some sense (random forrest and the decision tree) we really didn't find any evidence for the Yelp score nor the number of reviews to be able to predict the average inspection score. This is also what we infered from the explorative plotting. So if you are a tourist in NYC concerned about eating in a safe and clean restaurant, you can't rely on the Yelp score or the number of reviews for any guidance."
   ]
  },
  {
   "cell_type": "markdown",
   "metadata": {},
   "source": [
    "### 3.3 - Predicting scores without Yelp"
   ]
  },
  {
   "cell_type": "markdown",
   "metadata": {},
   "source": [
    "In this section we will try to predict the scores without the use of the Yelp dataset. As previously argued we do this since this drastically increases the number of observations in the dataset."
   ]
  },
  {
   "cell_type": "markdown",
   "metadata": {},
   "source": [
    "**Initial data manipulation**"
   ]
  },
  {
   "cell_type": "markdown",
   "metadata": {},
   "source": [
    "In alignment with what we previously did, we apply a one-out-of-k-coding to the cuisine variable as well as scale the numerical inputs lat and long and lastly define the traning and test dataset. We shall only cover the methods briefly here, since this basically is just a repeatment of what has previously been done."
   ]
  },
  {
   "cell_type": "code",
   "execution_count": 50,
   "metadata": {
    "collapsed": false
   },
   "outputs": [
    {
     "name": "stdout",
     "output_type": "stream",
     "text": [
      "(22389, 15) (2488, 15) (22389L,) (2488L,)\n"
     ]
    }
   ],
   "source": [
    "df_pred = df_unique[[\"AVGSCORE\",\"lat\",\"lon\", \"CUISINE\"]]\n",
    "X = df_pred.drop(\"AVGSCORE\", axis=1)\n",
    "y = df_pred[\"AVGSCORE\"]\n",
    "X[['lat','lon']] = preprocessing.scale(X[['lat','lon']])\n",
    "X = pd.get_dummies(X, columns =['CUISINE'])\n",
    "X_train, X_test, y_train, y_test = train_test_split(X, y, test_size=0.1, random_state=123)\n",
    "print X_train.shape, X_test.shape, y_train.shape, y_test.shape"
   ]
  },
  {
   "cell_type": "markdown",
   "metadata": {},
   "source": [
    "Notice the increase in observations."
   ]
  },
  {
   "cell_type": "markdown",
   "metadata": {},
   "source": [
    "**Random forest**"
   ]
  },
  {
   "cell_type": "code",
   "execution_count": 51,
   "metadata": {
    "collapsed": false
   },
   "outputs": [
    {
     "name": "stdout",
     "output_type": "stream",
     "text": [
      "Scores for simple random forrest: \n",
      "R2:  0.0148414655723\n",
      "MSE:  55.5545218933\n",
      "\n",
      "\n",
      "Scores for complex random forrest: \n",
      "R2:  0.0373170430801\n",
      "MSE:  54.2870914046\n"
     ]
    }
   ],
   "source": [
    "forest_1 = RandomForestRegressor(n_estimators=1000, criterion = \"mse\", max_features = \"auto\",\n",
    "                            oob_score = True, n_jobs = -1, max_depth = 2)\n",
    "_ = forest_1.fit(X_train, y_train) # Save in unused variable to suppres output\n",
    "\n",
    "forest_2 = RandomForestRegressor(n_estimators=1000, criterion = \"mse\", max_features = \"auto\",\n",
    "                            oob_score = True, n_jobs = -1, max_depth = 5)\n",
    "_ = forest_2.fit(X_train, y_train) # Save in unused variable to suppres output\n",
    "\n",
    "\n",
    "print \"Scores for simple random forrest: \"\n",
    "get_score(forest_1, X_test, y_test)\n",
    "print \"\\n\"\n",
    "print \"Scores for complex random forrest: \"\n",
    "get_score(forest_2, X_test, y_test)"
   ]
  },
  {
   "cell_type": "markdown",
   "metadata": {},
   "source": [
    "So now we actually see the more complex tree predicts better. Let us try to let the algorithm choose the depth automatically"
   ]
  },
  {
   "cell_type": "code",
   "execution_count": 52,
   "metadata": {
    "collapsed": false
   },
   "outputs": [
    {
     "name": "stdout",
     "output_type": "stream",
     "text": [
      "Scores for random forrest: \n",
      "R2:  -0.0907642471308\n",
      "MSE:  61.5097815529\n"
     ]
    }
   ],
   "source": [
    "forest_3 = RandomForestRegressor(n_estimators=1000, criterion = \"mse\", max_features = \"auto\",\n",
    "                            oob_score = True, n_jobs = -1, max_depth = None)\n",
    "_ = forest_3.fit(X_train, y_train) # Save in unused variable to suppres output\n",
    "\n",
    "\n",
    "print \"Scores for random forrest: \"\n",
    "get_score(forest_3, X_test, y_test)"
   ]
  },
  {
   "cell_type": "markdown",
   "metadata": {},
   "source": [
    "This gets worse. Let us go with *max_depth = 5*."
   ]
  },
  {
   "cell_type": "code",
   "execution_count": 53,
   "metadata": {
    "collapsed": false
   },
   "outputs": [
    {
     "name": "stdout",
     "output_type": "stream",
     "text": [
      "Feature ranking:\n",
      "1. feature CUISINE_Other (No. 13) (0.203517)\n",
      "2. feature CUISINE_Cafe (No. 6) (0.203294)\n",
      "3. feature lat (No. 0) (0.178714)\n",
      "4. feature CUISINE_American (No. 3) (0.167698)\n",
      "5. feature lon (No. 1) (0.161673)\n",
      "6. feature CUISINE_Fast Food (No. 9) (0.065530)\n",
      "7. feature CUISINE_Bakery (No. 5) (0.015352)\n",
      "8. feature CUISINE_Chinese (No. 7) (0.002348)\n",
      "9. feature CUISINE_Latin (No. 11) (0.000896)\n",
      "10. feature CUISINE_African (No. 2) (0.000291)\n",
      "11. feature CUISINE_Seafood (No. 14) (0.000261)\n",
      "12. feature CUISINE_European (No. 8) (0.000169)\n",
      "13. feature CUISINE_Asian (No. 4) (0.000125)\n",
      "14. feature CUISINE_Italian (No. 10) (0.000098)\n",
      "15. feature CUISINE_Mediterranean (No. 12) (0.000032)\n"
     ]
    },
    {
     "data": {
      "image/png": "[encoded data removed]",
      "text/plain": [
       "<matplotlib.figure.Figure at 0x23780588>"
      ]
     },
     "metadata": {},
     "output_type": "display_data"
    }
   ],
   "source": [
    "get_importance_forest(forest_2, plot = True)"
   ]
  },
  {
   "cell_type": "markdown",
   "metadata": {},
   "source": [
    "Okay, so now we see that it is the cafés and other cuisines that are important in determining the score. As we previously saw these had a very good score, so this makes good sense. Knowing that the cuisine description is either café or other may be a good idea, since you then are pretty sure that they serve safe food. The standard errors are also much smaller now, due to the larger dataset."
   ]
  },
  {
   "cell_type": "markdown",
   "metadata": {},
   "source": [
    "**Linear regression**"
   ]
  },
  {
   "cell_type": "code",
   "execution_count": 54,
   "metadata": {
    "collapsed": false
   },
   "outputs": [
    {
     "name": "stdout",
     "output_type": "stream",
     "text": [
      "Score for linear regression: \n",
      "R2:  0.0370002161012\n",
      "MSE:  58.6958734571\n"
     ]
    }
   ],
   "source": [
    "lr = LinearRegression()\n",
    "lr.fit(X_train, y_train)\n",
    "print \"Score for linear regression: \"\n",
    "get_score(lr, X_train, y_train)"
   ]
  },
  {
   "cell_type": "markdown",
   "metadata": {},
   "source": [
    "The linear regression performs worse than our decision tree. So we shall not consider this further. "
   ]
  },
  {
   "cell_type": "markdown",
   "metadata": {},
   "source": [
    "**Regression trees**"
   ]
  },
  {
   "cell_type": "code",
   "execution_count": 55,
   "metadata": {
    "collapsed": false
   },
   "outputs": [
    {
     "name": "stdout",
     "output_type": "stream",
     "text": [
      "Scores for simple fit: \n",
      "R2:  0.0137473948545\n",
      "MSE:  55.6162181315\n",
      "\n",
      "\n",
      "Scores for complex fit: \n",
      "R2:  0.0278341746325\n",
      "MSE:  54.8218441417\n",
      "\n",
      "\n",
      "Feature ranking:\n",
      "1. feature CUISINE_Other (No. 13) (0.238022)\n",
      "2. feature CUISINE_Cafe (No. 6) (0.203117)\n",
      "3. feature CUISINE_American (No. 3) (0.183402)\n",
      "4. feature lat (No. 0) (0.151830)\n",
      "5. feature lon (No. 1) (0.133202)\n",
      "6. feature CUISINE_Fast Food (No. 9) (0.070520)\n",
      "7. feature CUISINE_Bakery (No. 5) (0.019907)\n",
      "8. feature CUISINE_Seafood (No. 14) (0.000000)\n",
      "9. feature CUISINE_Mediterranean (No. 12) (0.000000)\n",
      "10. feature CUISINE_Latin (No. 11) (0.000000)\n",
      "11. feature CUISINE_Italian (No. 10) (0.000000)\n",
      "12. feature CUISINE_European (No. 8) (0.000000)\n",
      "13. feature CUISINE_Chinese (No. 7) (0.000000)\n",
      "14. feature CUISINE_Asian (No. 4) (0.000000)\n",
      "15. feature CUISINE_African (No. 2) (0.000000)\n"
     ]
    }
   ],
   "source": [
    "# Fit regression models\n",
    "regr_1 = DecisionTreeRegressor(max_depth=2)\n",
    "regr_2 = DecisionTreeRegressor(max_depth=5)\n",
    "regr_1.fit(X_train, y_train)\n",
    "regr_2.fit(X_train, y_train)\n",
    "\n",
    "# Predict\n",
    "y_1 = regr_1.predict(X_test)\n",
    "y_2 = regr_2.predict(X_test)\n",
    "\n",
    "# Scores\n",
    "print \"Scores for simple fit: \"\n",
    "get_score(regr_1, X_test, y_test)\n",
    "print \"\\n\"\n",
    "print \"Scores for complex fit: \"\n",
    "get_score(regr_2, X_test, y_test)\n",
    "\n",
    "# Feature importance\n",
    "print \"\\n\"\n",
    "get_importance_forest(regr_2)"
   ]
  },
  {
   "cell_type": "code",
   "execution_count": 55,
   "metadata": {
    "collapsed": false
   },
   "outputs": [
    {
     "data": {
      "text/html": [
       "\n",
       "        <iframe\n",
       "            width=\"800\"\n",
       "            height=\"500\"\n",
       "            src=\"./tree3.pdf\"\n",
       "            frameborder=\"0\"\n",
       "            allowfullscreen\n",
       "        ></iframe>\n",
       "        "
      ],
      "text/plain": [
       "<IPython.lib.display.IFrame at 0x2aa36ac8>"
      ]
     },
     "execution_count": 55,
     "metadata": {},
     "output_type": "execute_result"
    }
   ],
   "source": [
    "# View in notebook\n",
    "IFrame(\"./tree3.pdf\", width=800, height=500)"
   ]
  },
  {
   "cell_type": "markdown",
   "metadata": {},
   "source": [
    "The conclusion is almost identical to the random forrest. It is worthwhile knowing if the cuisine is in the category other, cafe or american, and it also helps to know where the restaurant is located."
   ]
  },
  {
   "cell_type": "markdown",
   "metadata": {},
   "source": [
    "**Adaboost regression**"
   ]
  },
  {
   "cell_type": "code",
   "execution_count": 56,
   "metadata": {
    "collapsed": false,
    "scrolled": true
   },
   "outputs": [
    {
     "name": "stdout",
     "output_type": "stream",
     "text": [
      "Score for AdaBoost regression: \n",
      "R2:  -0.206609518856\n",
      "MSE:  68.0424648312\n",
      "\n",
      "\n",
      "Feature ranking:\n",
      "1. feature lon (No. 1) (0.373018)\n",
      "2. feature CUISINE_Other (No. 13) (0.222749)\n",
      "3. feature lat (No. 0) (0.187304)\n",
      "4. feature CUISINE_Cafe (No. 6) (0.153972)\n",
      "5. feature CUISINE_African (No. 2) (0.049938)\n",
      "6. feature CUISINE_American (No. 3) (0.010831)\n",
      "7. feature CUISINE_Seafood (No. 14) (0.002115)\n",
      "8. feature CUISINE_Asian (No. 4) (0.000074)\n",
      "9. feature CUISINE_Mediterranean (No. 12) (0.000000)\n",
      "10. feature CUISINE_Latin (No. 11) (0.000000)\n",
      "11. feature CUISINE_Italian (No. 10) (0.000000)\n",
      "12. feature CUISINE_Fast Food (No. 9) (0.000000)\n",
      "13. feature CUISINE_European (No. 8) (0.000000)\n",
      "14. feature CUISINE_Chinese (No. 7) (0.000000)\n",
      "15. feature CUISINE_Bakery (No. 5) (0.000000)\n"
     ]
    }
   ],
   "source": [
    "regr_ada = AdaBoostRegressor(DecisionTreeRegressor(max_depth=2),\n",
    "                          n_estimators=300, random_state=123)\n",
    "\n",
    "regr_ada.fit(X_train, y_train)\n",
    "\n",
    "print \"Score for AdaBoost regression: \"\n",
    "get_score(regr_ada, X_test, y_test)\n",
    "print \"\\n\"\n",
    "get_importance_forest(regr_ada)"
   ]
  },
  {
   "cell_type": "markdown",
   "metadata": {},
   "source": [
    "The adaboost regression also performs poorly on this dataset, so we shall not consider this further."
   ]
  },
  {
   "cell_type": "markdown",
   "metadata": {},
   "source": [
    "### 3.1 - Conclusion on predicting scores without Yelp"
   ]
  },
  {
   "cell_type": "markdown",
   "metadata": {},
   "source": [
    "When we disregard the Yelp dataset, the number of observations increases significantly. This enables us to make more robust conclusion about the features *lattitude*, *longitude* and *cuisine*. The random forest regressor and the regression tree performed best on this dataset. Both showed that the two cuisine types Other and Cafe were important in predicting the average inspection score, so our tourist can be certain that these cuisine types serve safe food. The lattitude also scored higher in both regressors than the longitude, but also the longitude had some impact. Thus, we may conclude that the location actually helps in predicting the score and you should probably stay on Manhattan to be on the safe side. Conclusively,<b> we may say that for a tourist it is helpfull to know whether the restaurant is in the category Other or Cafe, and if they are, this probably means that there is a low chance of catching some sort of sickness as seen from the investigative plotting.</b> On the other hand, these cuisines really aren't that interesting. So we also find that knowing if the cuisine type is American also helps in the prediction. As we saw in the investigative section this type of cuisine was also associated with a low score. Therefore,<b> knowing a restaurant serves American food tells our tourist that it is a somewhat safe place to eat. </b>"
   ]
  },
  {
   "cell_type": "markdown",
   "metadata": {},
   "source": [
    "## 4 - Visualizations"
   ]
  },
  {
   "cell_type": "markdown",
   "metadata": {},
   "source": [
    "At the website http://castaberi.github.io/ we provide a small, non-technical overview of this entire project. We have provided three D3 visualisations, which all aim to make the investigation of our datasets easier, fun and visually pleasing. In this section we explain why we have chosen these particular visualisations."
   ]
  },
  {
   "cell_type": "markdown",
   "metadata": {
    "collapsed": false
   },
   "source": [
    "### 4.1 D3 visualisation #1 - Geographical information"
   ]
  },
  {
   "cell_type": "markdown",
   "metadata": {},
   "source": [
    "The location of the restaurant is one of the main features in our dataset. We find it interesting to know whether the location in NYC actually has a say in whether the hygiene of this restaurant is percieved as good. Hence, we visualise this in a choropleth map. The user has the opportunity to switch between the number of restaurants colored accordingly in a region or see the average score within this region. This enables the user to get a quick and informative overview of i) where the majority of restaurants actually are and ii) how the inspection scores are distributed. Hovering over a specific region reveals the frequency, the average score as well as the region name and zip code. With such an interactive visualisation we believe that the user gain an important insight into geographical information of our dataset."
   ]
  },
  {
   "cell_type": "markdown",
   "metadata": {},
   "source": [
    "### 4.2 D3 visualisation #2 - Cuisine types"
   ]
  },
  {
   "cell_type": "markdown",
   "metadata": {},
   "source": [
    "The type of cuisine is another, very important feature in our dataset. So it is naturally to also visualise this at our website. We do this by showing the distribution across the 13 different cuisines, allowing the user to visualise which kind of cuisines are most frequent in NYC. We also allow for a toggle option. Here, we show how the average cuisine score is compared to the other and also the overall average indicated by a dashed, black line. By showing this plot, we hope that the reader easily gains insight into how the different cuisines score, which is a crucial part of our assignment and modelling phase."
   ]
  },
  {
   "cell_type": "markdown",
   "metadata": {},
   "source": [
    "### 4.3 D3 visualisation #3 - User reviews"
   ]
  },
  {
   "cell_type": "markdown",
   "metadata": {},
   "source": [
    "The third and last important feature is the Yelp score. Before we carried out our analysis we thought we would find a clear relationship between the Yelp score and the average inspection score. It turns out that this realationship is non-exicisting. As this came as a suprise to us, we find it interesting to display to our readers as well. We have enabled a dropdown list, so the reader can switch between the 13 different cuisines to see the relationship for themselves. By showing this visualisation we hope to persuade the reader that there do not exists a relationship."
   ]
  },
  {
   "cell_type": "markdown",
   "metadata": {},
   "source": [
    "## 5 - Discussion (Conclusion)"
   ]
  },
  {
   "cell_type": "markdown",
   "metadata": {
    "collapsed": true
   },
   "source": [
    "Throughout this report we have explored several different aspects of the dataset containing a list of restaurant inspections in New York City. Our aim and perspective has been Health, but we have also explored the correlation between public opinion and scoring by looking at data form Yelp and Restaurants with Michelin Stars. \n",
    "\n",
    "This notebook is meant to complement our website <a href=\"http://castaberi.github.io\">GITHUB LINK</a> and is a follow-up to our video https://www.youtube.com/watch?v=Y_DVouPSDXM.\n",
    "\n",
    "Some interesting conclusions can be drawn from our analysis. These include\n",
    "\n",
    "<ul>\n",
    "  <li>The average scores of restaurants vary largely among the different cuisine types. On average, Cafés perform very well, while African, Asian and other foreign cuisine types tend to score poorly. As mentioned earlier this can be because of different preparation techniques that involve more hand contact or cooking at low/without heat. For instance, there are strict regulations for making sushi or other raw foods which can be particularly penalising for Asian cuisine. Overall, if hygiene is a high priority then a <b>café would be a wise choice </b> and if you are into something a bit more interesting go for the <b> american serving restaurants </b></li>\n",
    " <br> <br>\n",
    "<li> The general opinion of taste and good restaurants can be unrelated to the overall hygiene of the restaurant. As we saw with the three star Michelin restaurants, where the average score lay higher than the overall average. An example that stands out is the three star restaurant PER SE.<a href=\" https://en.wikipedia.org/wiki/Per_Se_(restaurant)\">Wikipedia </a> has the following to say about Per Se *“Per Se is currently the third most expensive restaurant in the world… with an average guest spending approximately $851”* however we can see that this restaurant has an average score of 22.4 which is significantly higher than the average. Thus, <b> public opinion and health inspections don't necessarily have the same thoughts on excellence </b>\n",
    "</li>\n",
    "<br><br>\n",
    "<li>\n",
    " In Part 3 of this report, we looked into machine learning methods for predicting the score of a restaurant using various features. We used our dataset and some data collected from the website Yelp. The size of the data that could be retrieved through yelp was quite small which made the standard errors very big. We ran two separate sets of tests on the smaller sized dataset including data from Yelp and one on the dataset without data from Yelp. <b> There seems to be no obvious relationship between the Yelp score and the inspection score </b>, so don't waste your time checking out the Yelp score, if you are concerned with finding a safe place to eat in NYC. On the other hand, you should definetely know which kind of cuisine type the restaurant belongs to. Especially the <b> Cafe, Other and American </b> cuisine types turned out to have an impact on the prediction. If you also know where the restaurant is <b> located </b> you should have a fair chance of not getting a disease if you choose your restaurant based on these conclusions.\n",
    "<br><br>\n",
    "</li>\n",
    "\n",
    "\n",
    "<b>Advice for Tourists in New York City</b>\n",
    "<br><br>\n",
    "If you plan to go to NYC make sure you know <b> where </b> the restaurant is placed, what kind of <b> cuisine description </b> they belong to and do not bother checking out the Yelp.com website!\n",
    "<br><br>\n",
    "\n",
    "<b> Thoughts on the process </b>\n",
    "<br><br>\n",
    "Overall we think that our end goal has been reached. We are able to provide some very specific suggestions to a tourist in NYC with limited information about where he or she is going to eat. Most of the process went well, but we could definetely improve on some aspects of the analysis. We do think that having access to more detailed information about each restaurant would have been helpful. Imagine a dataset where we also had access to price-range, revenue, # of employees etc. Such features would have been very interesting to look at and we could broaden our analysis considerably. This would perhaps also overcome the issue of the modelling phase, where we saw that we weren't able to explain as much of the variation as we would have liked. Another issue has been the size of the Yelp data retrieved. Have we gained access to even more, we would have been able to come up with more robust conclusions in this section.\n",
    "</ul>\n",
    "\n"
   ]
  }
 ],
 "metadata": {
  "kernelspec": {
   "display_name": "Python 2",
   "language": "python",
   "name": "python2"
  },
  "language_info": {
   "codemirror_mode": {
    "name": "ipython",
    "version": 2
   },
   "file_extension": ".py",
   "mimetype": "text/x-python",
   "name": "python",
   "nbconvert_exporter": "python",
   "pygments_lexer": "ipython2",
   "version": "2.7.11"
  }
 },
 "nbformat": 4,
 "nbformat_minor": 0
}
