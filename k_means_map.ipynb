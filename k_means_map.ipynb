{
 "cells": [
  {
   "cell_type": "markdown",
   "metadata": {},
   "source": [
    "# Assignment 2D\n",
    "\n",
    "K-means script used for geoplot in assignment 2."
   ]
  },
  {
   "cell_type": "markdown",
   "metadata": {},
   "source": [
    "Load and prepare data:"
   ]
  },
  {
   "cell_type": "code",
   "execution_count": 1,
   "metadata": {
    "collapsed": true
   },
   "outputs": [],
   "source": [
    "import numpy as np\n",
    "import pandas as pd\n",
    "import json\n",
    "from sklearn.cluster import KMeans\n",
    "from __future__ import division"
   ]
  },
  {
   "cell_type": "code",
   "execution_count": 9,
   "metadata": {
    "collapsed": false
   },
   "outputs": [],
   "source": [
    "df = pd.read_csv('SFPD_Incidents_-_from_1_January_2003.csv')\n",
    "df = df[pd.notnull(df['PdDistrict'])]\n",
    "df = df[df[\"Y\"] != 90]"
   ]
  },
  {
   "cell_type": "code",
   "execution_count": 10,
   "metadata": {
    "collapsed": false
   },
   "outputs": [],
   "source": [
    "data = df[df[\"Category\"]==\"PROSTITUTION\"][[\"Y\",\"X\"]]\n",
    "data.columns = [\"lat\", \"lon\"]"
   ]
  },
  {
   "cell_type": "markdown",
   "metadata": {},
   "source": [
    "Fit the five different K-means model and save the centroids, the labels and the inertias for plotting."
   ]
  },
  {
   "cell_type": "code",
   "execution_count": 11,
   "metadata": {
    "collapsed": false
   },
   "outputs": [],
   "source": [
    "Ks = range(2,7)\n",
    "inertia = []\n",
    "clusters = {}\n",
    "labels = {'lat' : np.array(data['lat']), 'lon' : np.array(data['lon'])}\n",
    "for k in Ks:\n",
    "    k_means = KMeans(n_clusters=k)\n",
    "    k_means.fit(data)\n",
    "    inertia.append(k_means.inertia_)\n",
    "    clusters['K' + str(k)] = k_means.cluster_centers_.tolist()\n",
    "    labels['K' + str(k)] = k_means.labels_"
   ]
  },
  {
   "cell_type": "markdown",
   "metadata": {},
   "source": [
    "Save the data as data frames for easy printing to csv."
   ]
  },
  {
   "cell_type": "code",
   "execution_count": 6,
   "metadata": {
    "collapsed": false
   },
   "outputs": [],
   "source": [
    "df_labels = pd.DataFrame.from_dict(labels)"
   ]
  },
  {
   "cell_type": "code",
   "execution_count": 7,
   "metadata": {
    "collapsed": false,
    "scrolled": true
   },
   "outputs": [],
   "source": [
    "df_labels.to_csv(\"data.csv\", sep=\",\",encoding='utf-8', index=False)"
   ]
  },
  {
   "cell_type": "markdown",
   "metadata": {},
   "source": [
    "Convert dict to new format for easy use in JS."
   ]
  },
  {
   "cell_type": "code",
   "execution_count": 31,
   "metadata": {
    "collapsed": false
   },
   "outputs": [],
   "source": [
    "p1=pd.DataFrame(clusters[\"K2\"], index=[\"K2\",\"K2\"])\n",
    "p2=pd.DataFrame(clusters[\"K3\"], index=[\"K3\",\"K3\", \"K3\"])\n",
    "p3=pd.DataFrame(clusters[\"K4\"], index=[\"K4\",\"K4\", \"K4\", \"K4\"])\n",
    "p4=pd.DataFrame(clusters[\"K5\"], index=[\"K5\",\"K5\",\"K5\",\"K5\",\"K5\"])\n",
    "p5=pd.DataFrame(clusters[\"K6\"], index=[\"K6\",\"K6\",\"K6\",\"K6\",\"K6\",\"K6\"])\n",
    "clusters_csv = pd.concat([p1, p2, p3, p4, p5])"
   ]
  },
  {
   "cell_type": "markdown",
   "metadata": {},
   "source": [
    "Save as JSON."
   ]
  },
  {
   "cell_type": "code",
   "execution_count": 9,
   "metadata": {
    "collapsed": false
   },
   "outputs": [],
   "source": [
    "with open('data.json', 'w') as fp:\n",
    "    json.dump(clusters, fp)"
   ]
  },
  {
   "cell_type": "markdown",
   "metadata": {},
   "source": [
    "Save as CSV."
   ]
  },
  {
   "cell_type": "code",
   "execution_count": 32,
   "metadata": {
    "collapsed": true
   },
   "outputs": [],
   "source": [
    "clusters_csv.to_csv(\"clusters.csv\", sep=\",\",encoding='utf-8', index=True)"
   ]
  }
 ],
 "metadata": {
  "kernelspec": {
   "display_name": "Python 2",
   "language": "python",
   "name": "python2"
  },
  "language_info": {
   "codemirror_mode": {
    "name": "ipython",
    "version": 2
   },
   "file_extension": ".py",
   "mimetype": "text/x-python",
   "name": "python",
   "nbconvert_exporter": "python",
   "pygments_lexer": "ipython2",
   "version": "2.7.11"
  }
 },
 "nbformat": 4,
 "nbformat_minor": 0
}
